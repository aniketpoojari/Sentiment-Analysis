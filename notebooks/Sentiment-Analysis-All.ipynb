{
 "cells": [
  {
   "cell_type": "markdown",
   "id": "3294a957",
   "metadata": {
    "id": "3294a957"
   },
   "source": [
    "# IMPORTING LIBRARIES"
   ]
  },
  {
   "cell_type": "code",
   "execution_count": 2,
   "id": "7scBa_MfnxCY",
   "metadata": {
    "colab": {
     "base_uri": "https://localhost:8080/"
    },
    "executionInfo": {
     "elapsed": 9841,
     "status": "ok",
     "timestamp": 1631725142160,
     "user": {
      "displayName": "aniket poojari",
      "photoUrl": "https://lh3.googleusercontent.com/a-/AOh14GjykJAoZZzpgcosjAjuibmB4AylsNENIqQVmGJskQ=s64",
      "userId": "09624879631889696305"
     },
     "user_tz": -330
    },
    "id": "7scBa_MfnxCY",
    "outputId": "40e28ff3-24b1-4a5d-c74e-f68c41d74df1"
   },
   "outputs": [
    {
     "name": "stdout",
     "output_type": "stream",
     "text": [
      "Collecting pytorch-nlp\n",
      "  Downloading pytorch_nlp-0.5.0-py3-none-any.whl (90 kB)\n",
      "\u001b[K     |████████████████████████████████| 90 kB 3.1 MB/s \n",
      "\u001b[?25hRequirement already satisfied: numpy in /usr/local/lib/python3.7/dist-packages (from pytorch-nlp) (1.19.5)\n",
      "Requirement already satisfied: tqdm in /usr/local/lib/python3.7/dist-packages (from pytorch-nlp) (4.62.0)\n",
      "Installing collected packages: pytorch-nlp\n",
      "Successfully installed pytorch-nlp-0.5.0\n"
     ]
    }
   ],
   "source": [
    "!pip install pytorch-nlp"
   ]
  },
  {
   "cell_type": "code",
   "execution_count": 3,
   "id": "MBWBiF3voChZ",
   "metadata": {
    "colab": {
     "base_uri": "https://localhost:8080/"
    },
    "executionInfo": {
     "elapsed": 10044,
     "status": "ok",
     "timestamp": 1631725152195,
     "user": {
      "displayName": "aniket poojari",
      "photoUrl": "https://lh3.googleusercontent.com/a-/AOh14GjykJAoZZzpgcosjAjuibmB4AylsNENIqQVmGJskQ=s64",
      "userId": "09624879631889696305"
     },
     "user_tz": -330
    },
    "id": "MBWBiF3voChZ",
    "outputId": "c17a0213-0bb0-420d-a2a3-f1f86688df88"
   },
   "outputs": [
    {
     "name": "stdout",
     "output_type": "stream",
     "text": [
      "Collecting transformers\n",
      "  Downloading transformers-4.10.2-py3-none-any.whl (2.8 MB)\n",
      "\u001b[K     |████████████████████████████████| 2.8 MB 4.3 MB/s \n",
      "\u001b[?25hCollecting sacremoses\n",
      "  Downloading sacremoses-0.0.45-py3-none-any.whl (895 kB)\n",
      "\u001b[K     |████████████████████████████████| 895 kB 47.3 MB/s \n",
      "\u001b[?25hRequirement already satisfied: importlib-metadata in /usr/local/lib/python3.7/dist-packages (from transformers) (4.6.4)\n",
      "Requirement already satisfied: packaging in /usr/local/lib/python3.7/dist-packages (from transformers) (21.0)\n",
      "Collecting pyyaml>=5.1\n",
      "  Downloading PyYAML-5.4.1-cp37-cp37m-manylinux1_x86_64.whl (636 kB)\n",
      "\u001b[K     |████████████████████████████████| 636 kB 30.1 MB/s \n",
      "\u001b[?25hRequirement already satisfied: numpy>=1.17 in /usr/local/lib/python3.7/dist-packages (from transformers) (1.19.5)\n",
      "Requirement already satisfied: tqdm>=4.27 in /usr/local/lib/python3.7/dist-packages (from transformers) (4.62.0)\n",
      "Collecting tokenizers<0.11,>=0.10.1\n",
      "  Downloading tokenizers-0.10.3-cp37-cp37m-manylinux_2_5_x86_64.manylinux1_x86_64.manylinux_2_12_x86_64.manylinux2010_x86_64.whl (3.3 MB)\n",
      "\u001b[K     |████████████████████████████████| 3.3 MB 32.1 MB/s \n",
      "\u001b[?25hCollecting huggingface-hub>=0.0.12\n",
      "  Downloading huggingface_hub-0.0.17-py3-none-any.whl (52 kB)\n",
      "\u001b[K     |████████████████████████████████| 52 kB 1.5 MB/s \n",
      "\u001b[?25hRequirement already satisfied: filelock in /usr/local/lib/python3.7/dist-packages (from transformers) (3.0.12)\n",
      "Requirement already satisfied: requests in /usr/local/lib/python3.7/dist-packages (from transformers) (2.23.0)\n",
      "Requirement already satisfied: regex!=2019.12.17 in /usr/local/lib/python3.7/dist-packages (from transformers) (2019.12.20)\n",
      "Requirement already satisfied: typing-extensions in /usr/local/lib/python3.7/dist-packages (from huggingface-hub>=0.0.12->transformers) (3.7.4.3)\n",
      "Requirement already satisfied: pyparsing>=2.0.2 in /usr/local/lib/python3.7/dist-packages (from packaging->transformers) (2.4.7)\n",
      "Requirement already satisfied: zipp>=0.5 in /usr/local/lib/python3.7/dist-packages (from importlib-metadata->transformers) (3.5.0)\n",
      "Requirement already satisfied: idna<3,>=2.5 in /usr/local/lib/python3.7/dist-packages (from requests->transformers) (2.10)\n",
      "Requirement already satisfied: chardet<4,>=3.0.2 in /usr/local/lib/python3.7/dist-packages (from requests->transformers) (3.0.4)\n",
      "Requirement already satisfied: certifi>=2017.4.17 in /usr/local/lib/python3.7/dist-packages (from requests->transformers) (2021.5.30)\n",
      "Requirement already satisfied: urllib3!=1.25.0,!=1.25.1,<1.26,>=1.21.1 in /usr/local/lib/python3.7/dist-packages (from requests->transformers) (1.24.3)\n",
      "Requirement already satisfied: six in /usr/local/lib/python3.7/dist-packages (from sacremoses->transformers) (1.15.0)\n",
      "Requirement already satisfied: joblib in /usr/local/lib/python3.7/dist-packages (from sacremoses->transformers) (1.0.1)\n",
      "Requirement already satisfied: click in /usr/local/lib/python3.7/dist-packages (from sacremoses->transformers) (7.1.2)\n",
      "Installing collected packages: tokenizers, sacremoses, pyyaml, huggingface-hub, transformers\n",
      "  Attempting uninstall: pyyaml\n",
      "    Found existing installation: PyYAML 3.13\n",
      "    Uninstalling PyYAML-3.13:\n",
      "      Successfully uninstalled PyYAML-3.13\n",
      "Successfully installed huggingface-hub-0.0.17 pyyaml-5.4.1 sacremoses-0.0.45 tokenizers-0.10.3 transformers-4.10.2\n"
     ]
    }
   ],
   "source": [
    "!pip install transformers"
   ]
  },
  {
   "cell_type": "code",
   "execution_count": 4,
   "id": "2c73f0fa",
   "metadata": {
    "executionInfo": {
     "elapsed": 5882,
     "status": "ok",
     "timestamp": 1631725158072,
     "user": {
      "displayName": "aniket poojari",
      "photoUrl": "https://lh3.googleusercontent.com/a-/AOh14GjykJAoZZzpgcosjAjuibmB4AylsNENIqQVmGJskQ=s64",
      "userId": "09624879631889696305"
     },
     "user_tz": -330
    },
    "id": "2c73f0fa"
   },
   "outputs": [],
   "source": [
    "import pandas as pd\n",
    "import numpy as np\n",
    "pd.set_option('display.max_columns', None)\n",
    "import matplotlib.pyplot as plt\n",
    "import seaborn as sns\n",
    "import warnings\n",
    "warnings.filterwarnings('ignore')\n",
    "\n",
    "from spacy.lang.en.stop_words import STOP_WORDS\n",
    "from spacy.lang.en import English\n",
    "import spacy\n",
    "import string\n",
    "import re\n",
    "from wordcloud import WordCloud\n",
    "\n",
    "from sklearn.model_selection import train_test_split\n",
    "from sklearn.feature_extraction.text import TfidfVectorizer, CountVectorizer\n",
    "from sklearn.pipeline import FeatureUnion\n",
    "from sklearn.preprocessing import LabelEncoder\n",
    "from sklearn.metrics import f1_score\n",
    "from sklearn.model_selection import GroupKFold, KFold, StratifiedKFold\n",
    "from scipy.sparse import hstack, csr_matrix\n",
    "\n",
    "from sklearn.linear_model import LogisticRegression\n",
    "from sklearn.naive_bayes import MultinomialNB\n",
    "from sklearn.tree import DecisionTreeClassifier\n",
    "from sklearn.ensemble import RandomForestClassifier\n",
    "\n",
    "from torchnlp.encoders.text import StaticTokenizerEncoder, stack_and_pad_tensors, pad_tensor\n",
    "import torch\n",
    "import torch.nn as nn\n",
    "\n",
    "from transformers import BertModel\n",
    "from transformers import BertTokenizerFast\n",
    "from tqdm import notebook\n",
    "from torch.utils.data import TensorDataset, DataLoader, RandomSampler, SequentialSampler\n",
    "from sklearn.utils.class_weight import compute_class_weight"
   ]
  },
  {
   "cell_type": "markdown",
   "id": "8bf2fd07",
   "metadata": {
    "id": "8bf2fd07"
   },
   "source": [
    "# 1. PROBLEM STATEMENT"
   ]
  },
  {
   "cell_type": "markdown",
   "id": "GwNXkpoPkYrm",
   "metadata": {
    "id": "GwNXkpoPkYrm"
   },
   "source": [
    "With all of the tweets circulating every second it is hard to tell whether the sentiment behind a specific tweet will impact a company, or a person's, brand for being viral (positive), or devastate profit because it strikes a negative tone or neutral. Capturing sentiment in language is important in these times where decisions and reactions are created and updated in seconds."
   ]
  },
  {
   "cell_type": "markdown",
   "id": "49ed4834",
   "metadata": {
    "id": "49ed4834"
   },
   "source": [
    "# 2. LOADING DATASET"
   ]
  },
  {
   "cell_type": "code",
   "execution_count": 5,
   "id": "eSkcK_nCoMs9",
   "metadata": {
    "colab": {
     "base_uri": "https://localhost:8080/"
    },
    "executionInfo": {
     "elapsed": 28917,
     "status": "ok",
     "timestamp": 1631725186982,
     "user": {
      "displayName": "aniket poojari",
      "photoUrl": "https://lh3.googleusercontent.com/a-/AOh14GjykJAoZZzpgcosjAjuibmB4AylsNENIqQVmGJskQ=s64",
      "userId": "09624879631889696305"
     },
     "user_tz": -330
    },
    "id": "eSkcK_nCoMs9",
    "outputId": "932f65ba-5e57-47cf-fa32-312df58f6299"
   },
   "outputs": [
    {
     "name": "stdout",
     "output_type": "stream",
     "text": [
      "Mounted at /content/drive\n"
     ]
    }
   ],
   "source": [
    "from google.colab import drive\n",
    "drive.mount('/content/drive')"
   ]
  },
  {
   "cell_type": "code",
   "execution_count": 6,
   "id": "bJKjVLn_oZVt",
   "metadata": {
    "executionInfo": {
     "elapsed": 801,
     "status": "ok",
     "timestamp": 1631725190184,
     "user": {
      "displayName": "aniket poojari",
      "photoUrl": "https://lh3.googleusercontent.com/a-/AOh14GjykJAoZZzpgcosjAjuibmB4AylsNENIqQVmGJskQ=s64",
      "userId": "09624879631889696305"
     },
     "user_tz": -330
    },
    "id": "bJKjVLn_oZVt"
   },
   "outputs": [],
   "source": [
    "dir = \"drive/MyDrive/AV/\""
   ]
  },
  {
   "cell_type": "code",
   "execution_count": 7,
   "id": "9ef01c53",
   "metadata": {
    "executionInfo": {
     "elapsed": 1777,
     "status": "ok",
     "timestamp": 1631725191952,
     "user": {
      "displayName": "aniket poojari",
      "photoUrl": "https://lh3.googleusercontent.com/a-/AOh14GjykJAoZZzpgcosjAjuibmB4AylsNENIqQVmGJskQ=s64",
      "userId": "09624879631889696305"
     },
     "user_tz": -330
    },
    "id": "9ef01c53"
   },
   "outputs": [],
   "source": [
    "df = pd.read_csv(dir + 'Tweets.csv')"
   ]
  },
  {
   "cell_type": "code",
   "execution_count": null,
   "id": "aea97850",
   "metadata": {
    "colab": {
     "base_uri": "https://localhost:8080/",
     "height": 445
    },
    "executionInfo": {
     "elapsed": 15,
     "status": "ok",
     "timestamp": 1631686263361,
     "user": {
      "displayName": "aniket poojari",
      "photoUrl": "https://lh3.googleusercontent.com/a-/AOh14GjykJAoZZzpgcosjAjuibmB4AylsNENIqQVmGJskQ=s64",
      "userId": "09624879631889696305"
     },
     "user_tz": -330
    },
    "id": "aea97850",
    "outputId": "e7522fca-f87b-4def-b408-0833f546572a"
   },
   "outputs": [
    {
     "data": {
      "text/html": [
       "<div>\n",
       "<style scoped>\n",
       "    .dataframe tbody tr th:only-of-type {\n",
       "        vertical-align: middle;\n",
       "    }\n",
       "\n",
       "    .dataframe tbody tr th {\n",
       "        vertical-align: top;\n",
       "    }\n",
       "\n",
       "    .dataframe thead th {\n",
       "        text-align: right;\n",
       "    }\n",
       "</style>\n",
       "<table border=\"1\" class=\"dataframe\">\n",
       "  <thead>\n",
       "    <tr style=\"text-align: right;\">\n",
       "      <th></th>\n",
       "      <th>tweet_id</th>\n",
       "      <th>airline_sentiment</th>\n",
       "      <th>airline_sentiment_confidence</th>\n",
       "      <th>negativereason</th>\n",
       "      <th>negativereason_confidence</th>\n",
       "      <th>airline</th>\n",
       "      <th>airline_sentiment_gold</th>\n",
       "      <th>name</th>\n",
       "      <th>negativereason_gold</th>\n",
       "      <th>retweet_count</th>\n",
       "      <th>text</th>\n",
       "      <th>tweet_coord</th>\n",
       "      <th>tweet_created</th>\n",
       "      <th>tweet_location</th>\n",
       "      <th>user_timezone</th>\n",
       "    </tr>\n",
       "  </thead>\n",
       "  <tbody>\n",
       "    <tr>\n",
       "      <th>0</th>\n",
       "      <td>570306133677760513</td>\n",
       "      <td>neutral</td>\n",
       "      <td>1.0000</td>\n",
       "      <td>NaN</td>\n",
       "      <td>NaN</td>\n",
       "      <td>Virgin America</td>\n",
       "      <td>NaN</td>\n",
       "      <td>cairdin</td>\n",
       "      <td>NaN</td>\n",
       "      <td>0</td>\n",
       "      <td>@VirginAmerica What @dhepburn said.</td>\n",
       "      <td>NaN</td>\n",
       "      <td>2015-02-24 11:35:52 -0800</td>\n",
       "      <td>NaN</td>\n",
       "      <td>Eastern Time (US &amp; Canada)</td>\n",
       "    </tr>\n",
       "    <tr>\n",
       "      <th>1</th>\n",
       "      <td>570301130888122368</td>\n",
       "      <td>positive</td>\n",
       "      <td>0.3486</td>\n",
       "      <td>NaN</td>\n",
       "      <td>0.0000</td>\n",
       "      <td>Virgin America</td>\n",
       "      <td>NaN</td>\n",
       "      <td>jnardino</td>\n",
       "      <td>NaN</td>\n",
       "      <td>0</td>\n",
       "      <td>@VirginAmerica plus you've added commercials t...</td>\n",
       "      <td>NaN</td>\n",
       "      <td>2015-02-24 11:15:59 -0800</td>\n",
       "      <td>NaN</td>\n",
       "      <td>Pacific Time (US &amp; Canada)</td>\n",
       "    </tr>\n",
       "    <tr>\n",
       "      <th>2</th>\n",
       "      <td>570301083672813571</td>\n",
       "      <td>neutral</td>\n",
       "      <td>0.6837</td>\n",
       "      <td>NaN</td>\n",
       "      <td>NaN</td>\n",
       "      <td>Virgin America</td>\n",
       "      <td>NaN</td>\n",
       "      <td>yvonnalynn</td>\n",
       "      <td>NaN</td>\n",
       "      <td>0</td>\n",
       "      <td>@VirginAmerica I didn't today... Must mean I n...</td>\n",
       "      <td>NaN</td>\n",
       "      <td>2015-02-24 11:15:48 -0800</td>\n",
       "      <td>Lets Play</td>\n",
       "      <td>Central Time (US &amp; Canada)</td>\n",
       "    </tr>\n",
       "    <tr>\n",
       "      <th>3</th>\n",
       "      <td>570301031407624196</td>\n",
       "      <td>negative</td>\n",
       "      <td>1.0000</td>\n",
       "      <td>Bad Flight</td>\n",
       "      <td>0.7033</td>\n",
       "      <td>Virgin America</td>\n",
       "      <td>NaN</td>\n",
       "      <td>jnardino</td>\n",
       "      <td>NaN</td>\n",
       "      <td>0</td>\n",
       "      <td>@VirginAmerica it's really aggressive to blast...</td>\n",
       "      <td>NaN</td>\n",
       "      <td>2015-02-24 11:15:36 -0800</td>\n",
       "      <td>NaN</td>\n",
       "      <td>Pacific Time (US &amp; Canada)</td>\n",
       "    </tr>\n",
       "    <tr>\n",
       "      <th>4</th>\n",
       "      <td>570300817074462722</td>\n",
       "      <td>negative</td>\n",
       "      <td>1.0000</td>\n",
       "      <td>Can't Tell</td>\n",
       "      <td>1.0000</td>\n",
       "      <td>Virgin America</td>\n",
       "      <td>NaN</td>\n",
       "      <td>jnardino</td>\n",
       "      <td>NaN</td>\n",
       "      <td>0</td>\n",
       "      <td>@VirginAmerica and it's a really big bad thing...</td>\n",
       "      <td>NaN</td>\n",
       "      <td>2015-02-24 11:14:45 -0800</td>\n",
       "      <td>NaN</td>\n",
       "      <td>Pacific Time (US &amp; Canada)</td>\n",
       "    </tr>\n",
       "  </tbody>\n",
       "</table>\n",
       "</div>"
      ],
      "text/plain": [
       "             tweet_id airline_sentiment  airline_sentiment_confidence  \\\n",
       "0  570306133677760513           neutral                        1.0000   \n",
       "1  570301130888122368          positive                        0.3486   \n",
       "2  570301083672813571           neutral                        0.6837   \n",
       "3  570301031407624196          negative                        1.0000   \n",
       "4  570300817074462722          negative                        1.0000   \n",
       "\n",
       "  negativereason  negativereason_confidence         airline  \\\n",
       "0            NaN                        NaN  Virgin America   \n",
       "1            NaN                     0.0000  Virgin America   \n",
       "2            NaN                        NaN  Virgin America   \n",
       "3     Bad Flight                     0.7033  Virgin America   \n",
       "4     Can't Tell                     1.0000  Virgin America   \n",
       "\n",
       "  airline_sentiment_gold        name negativereason_gold  retweet_count  \\\n",
       "0                    NaN     cairdin                 NaN              0   \n",
       "1                    NaN    jnardino                 NaN              0   \n",
       "2                    NaN  yvonnalynn                 NaN              0   \n",
       "3                    NaN    jnardino                 NaN              0   \n",
       "4                    NaN    jnardino                 NaN              0   \n",
       "\n",
       "                                                text tweet_coord  \\\n",
       "0                @VirginAmerica What @dhepburn said.         NaN   \n",
       "1  @VirginAmerica plus you've added commercials t...         NaN   \n",
       "2  @VirginAmerica I didn't today... Must mean I n...         NaN   \n",
       "3  @VirginAmerica it's really aggressive to blast...         NaN   \n",
       "4  @VirginAmerica and it's a really big bad thing...         NaN   \n",
       "\n",
       "               tweet_created tweet_location               user_timezone  \n",
       "0  2015-02-24 11:35:52 -0800            NaN  Eastern Time (US & Canada)  \n",
       "1  2015-02-24 11:15:59 -0800            NaN  Pacific Time (US & Canada)  \n",
       "2  2015-02-24 11:15:48 -0800      Lets Play  Central Time (US & Canada)  \n",
       "3  2015-02-24 11:15:36 -0800            NaN  Pacific Time (US & Canada)  \n",
       "4  2015-02-24 11:14:45 -0800            NaN  Pacific Time (US & Canada)  "
      ]
     },
     "execution_count": 5,
     "metadata": {},
     "output_type": "execute_result"
    }
   ],
   "source": [
    "df.head()"
   ]
  },
  {
   "cell_type": "markdown",
   "id": "7dffff49",
   "metadata": {
    "id": "7dffff49"
   },
   "source": [
    "# 3. EDA"
   ]
  },
  {
   "cell_type": "code",
   "execution_count": null,
   "id": "4fb612a2",
   "metadata": {
    "colab": {
     "base_uri": "https://localhost:8080/"
    },
    "executionInfo": {
     "elapsed": 387,
     "status": "ok",
     "timestamp": 1631678822383,
     "user": {
      "displayName": "aniket poojari",
      "photoUrl": "https://lh3.googleusercontent.com/a-/AOh14GjykJAoZZzpgcosjAjuibmB4AylsNENIqQVmGJskQ=s64",
      "userId": "09624879631889696305"
     },
     "user_tz": -330
    },
    "id": "4fb612a2",
    "outputId": "aba3bad8-bcee-4ff4-e43d-22cdaf8fb39f"
   },
   "outputs": [
    {
     "data": {
      "text/plain": [
       "tweet_id                          int64\n",
       "airline_sentiment                object\n",
       "airline_sentiment_confidence    float64\n",
       "negativereason                   object\n",
       "negativereason_confidence       float64\n",
       "airline                          object\n",
       "airline_sentiment_gold           object\n",
       "name                             object\n",
       "negativereason_gold              object\n",
       "retweet_count                     int64\n",
       "text                             object\n",
       "tweet_coord                      object\n",
       "tweet_created                    object\n",
       "tweet_location                   object\n",
       "user_timezone                    object\n",
       "dtype: object"
      ]
     },
     "execution_count": 14,
     "metadata": {},
     "output_type": "execute_result"
    }
   ],
   "source": [
    "df.dtypes"
   ]
  },
  {
   "cell_type": "code",
   "execution_count": null,
   "id": "86000bc2",
   "metadata": {
    "colab": {
     "base_uri": "https://localhost:8080/"
    },
    "executionInfo": {
     "elapsed": 730,
     "status": "ok",
     "timestamp": 1631678829913,
     "user": {
      "displayName": "aniket poojari",
      "photoUrl": "https://lh3.googleusercontent.com/a-/AOh14GjykJAoZZzpgcosjAjuibmB4AylsNENIqQVmGJskQ=s64",
      "userId": "09624879631889696305"
     },
     "user_tz": -330
    },
    "id": "86000bc2",
    "outputId": "3bcf62d0-7a89-4dbf-c92e-80d3f140f207"
   },
   "outputs": [
    {
     "data": {
      "text/plain": [
       "(14640, 15)"
      ]
     },
     "execution_count": 15,
     "metadata": {},
     "output_type": "execute_result"
    }
   ],
   "source": [
    "df.shape"
   ]
  },
  {
   "cell_type": "markdown",
   "id": "-a9YkTeho_Wm",
   "metadata": {
    "id": "-a9YkTeho_Wm"
   },
   "source": [
    "#### CLASS COUNTS"
   ]
  },
  {
   "cell_type": "code",
   "execution_count": null,
   "id": "d8fec23e",
   "metadata": {
    "colab": {
     "base_uri": "https://localhost:8080/",
     "height": 320
    },
    "executionInfo": {
     "elapsed": 736,
     "status": "ok",
     "timestamp": 1631678925229,
     "user": {
      "displayName": "aniket poojari",
      "photoUrl": "https://lh3.googleusercontent.com/a-/AOh14GjykJAoZZzpgcosjAjuibmB4AylsNENIqQVmGJskQ=s64",
      "userId": "09624879631889696305"
     },
     "user_tz": -330
    },
    "id": "d8fec23e",
    "outputId": "d9485322-4852-4ce6-b721-9f9617c22924"
   },
   "outputs": [
    {
     "data": {
      "image/png": "[encoded data removed]",
      "text/plain": [
       "<Figure size 1440x360 with 1 Axes>"
      ]
     },
     "metadata": {
      "needs_background": "light"
     },
     "output_type": "display_data"
    }
   ],
   "source": [
    "count = df.airline_sentiment.value_counts()\n",
    "plt.figure(figsize=(20,5))\n",
    "sns.barplot(count.index, count.values, alpha=0.8)\n",
    "plt.xticks()\n",
    "plt.show()"
   ]
  },
  {
   "cell_type": "markdown",
   "id": "c9aa34ef",
   "metadata": {
    "id": "c9aa34ef"
   },
   "source": [
    "#### CLEANING TEXT"
   ]
  },
  {
   "cell_type": "code",
   "execution_count": 8,
   "id": "953eccc7",
   "metadata": {
    "executionInfo": {
     "elapsed": 1240,
     "status": "ok",
     "timestamp": 1631725197504,
     "user": {
      "displayName": "aniket poojari",
      "photoUrl": "https://lh3.googleusercontent.com/a-/AOh14GjykJAoZZzpgcosjAjuibmB4AylsNENIqQVmGJskQ=s64",
      "userId": "09624879631889696305"
     },
     "user_tz": -330
    },
    "id": "953eccc7"
   },
   "outputs": [],
   "source": [
    "nlp = English()"
   ]
  },
  {
   "cell_type": "code",
   "execution_count": 9,
   "id": "eb63f575",
   "metadata": {
    "executionInfo": {
     "elapsed": 1,
     "status": "ok",
     "timestamp": 1631725198127,
     "user": {
      "displayName": "aniket poojari",
      "photoUrl": "https://lh3.googleusercontent.com/a-/AOh14GjykJAoZZzpgcosjAjuibmB4AylsNENIqQVmGJskQ=s64",
      "userId": "09624879631889696305"
     },
     "user_tz": -330
    },
    "id": "eb63f575"
   },
   "outputs": [],
   "source": [
    "def clean_text(text):\n",
    "    cleaned = text.lower()\n",
    "    \n",
    "    punctuations = string.punctuation\n",
    "    cleaned = \"\".join(character for character in cleaned if character not in punctuations)\n",
    "    \n",
    "    my_doc = nlp(cleaned)\n",
    "    token_list = []\n",
    "    for token in my_doc:\n",
    "        token_list.append(token.text)\n",
    "    \n",
    "    filtered_sentence =[] \n",
    "    \n",
    "    for word in token_list:\n",
    "        lexeme = nlp.vocab[word]\n",
    "        if lexeme.is_stop == False:\n",
    "            filtered_sentence.append(word)\n",
    "    \n",
    "    cleaned = filtered_sentence[1:]\n",
    "    cleaned = \" \".join(cleaned)\n",
    "    \n",
    "    return cleaned"
   ]
  },
  {
   "cell_type": "code",
   "execution_count": 10,
   "id": "bdb28e33",
   "metadata": {
    "executionInfo": {
     "elapsed": 2357,
     "status": "ok",
     "timestamp": 1631725202899,
     "user": {
      "displayName": "aniket poojari",
      "photoUrl": "https://lh3.googleusercontent.com/a-/AOh14GjykJAoZZzpgcosjAjuibmB4AylsNENIqQVmGJskQ=s64",
      "userId": "09624879631889696305"
     },
     "user_tz": -330
    },
    "id": "bdb28e33"
   },
   "outputs": [],
   "source": [
    "df['cleaned_text'] = df['text'].apply(lambda x: clean_text(x))"
   ]
  },
  {
   "cell_type": "markdown",
   "id": "9JQjHD0vpQ1F",
   "metadata": {
    "id": "9JQjHD0vpQ1F"
   },
   "source": [
    "#### WORD CLOUD"
   ]
  },
  {
   "cell_type": "code",
   "execution_count": null,
   "id": "2e1c5fc5",
   "metadata": {
    "colab": {
     "base_uri": "https://localhost:8080/",
     "height": 303
    },
    "executionInfo": {
     "elapsed": 3522,
     "status": "ok",
     "timestamp": 1631678977981,
     "user": {
      "displayName": "aniket poojari",
      "photoUrl": "https://lh3.googleusercontent.com/a-/AOh14GjykJAoZZzpgcosjAjuibmB4AylsNENIqQVmGJskQ=s64",
      "userId": "09624879631889696305"
     },
     "user_tz": -330
    },
    "id": "2e1c5fc5",
    "outputId": "8b058688-fcb1-413a-ffc5-0a26855c786a"
   },
   "outputs": [
    {
     "data": {
      "image/png": "[encoded data removed]",
      "text/plain": [
       "<Figure size 1440x360 with 1 Axes>"
      ]
     },
     "metadata": {
      "needs_background": "light"
     },
     "output_type": "display_data"
    }
   ],
   "source": [
    "all_words = ' '.join([text for text in df['cleaned_text']])\n",
    "\n",
    "wordcloud = WordCloud(width=800, height=500, random_state=21, max_font_size=110).generate(all_words)\n",
    "\n",
    "plt.figure(figsize=(20, 5))\n",
    "plt.imshow(wordcloud, interpolation=\"bilinear\")\n",
    "plt.axis('off')\n",
    "plt.show()"
   ]
  },
  {
   "cell_type": "markdown",
   "id": "zKXw0rN2pXaX",
   "metadata": {
    "id": "zKXw0rN2pXaX"
   },
   "source": [
    "#### SENTENCE LENGTHS"
   ]
  },
  {
   "cell_type": "code",
   "execution_count": null,
   "id": "681b1e87",
   "metadata": {
    "colab": {
     "base_uri": "https://localhost:8080/",
     "height": 298
    },
    "executionInfo": {
     "elapsed": 700,
     "status": "ok",
     "timestamp": 1631678998539,
     "user": {
      "displayName": "aniket poojari",
      "photoUrl": "https://lh3.googleusercontent.com/a-/AOh14GjykJAoZZzpgcosjAjuibmB4AylsNENIqQVmGJskQ=s64",
      "userId": "09624879631889696305"
     },
     "user_tz": -330
    },
    "id": "681b1e87",
    "outputId": "a8d01285-2439-4562-a312-3f31eb90a822"
   },
   "outputs": [
    {
     "data": {
      "text/plain": [
       "Text(0.5, 1.0, 'Histogram: Length of sentences')"
      ]
     },
     "execution_count": 21,
     "metadata": {},
     "output_type": "execute_result"
    },
    {
     "data": {
      "image/png": "[encoded data removed]",
      "text/plain": [
       "<Figure size 432x288 with 1 Axes>"
      ]
     },
     "metadata": {
      "needs_background": "light"
     },
     "output_type": "display_data"
    }
   ],
   "source": [
    "# compute no. of words in each tweet\n",
    "num = [len(i.split()) for i in df['cleaned_text']]\n",
    "plt.hist(num, bins = 30)\n",
    "plt.title(\"Histogram: Length of sentences\")"
   ]
  },
  {
   "cell_type": "markdown",
   "id": "3ff47cf1",
   "metadata": {
    "id": "3ff47cf1"
   },
   "source": [
    "# 4. FEATURE ENGINEERING"
   ]
  },
  {
   "cell_type": "markdown",
   "id": "s70yAt7mpddR",
   "metadata": {
    "id": "s70yAt7mpddR"
   },
   "source": [
    "#### GATHERING RELEVANT DATA"
   ]
  },
  {
   "cell_type": "code",
   "execution_count": 18,
   "id": "f16fb2b7",
   "metadata": {
    "executionInfo": {
     "elapsed": 573,
     "status": "ok",
     "timestamp": 1631725273196,
     "user": {
      "displayName": "aniket poojari",
      "photoUrl": "https://lh3.googleusercontent.com/a-/AOh14GjykJAoZZzpgcosjAjuibmB4AylsNENIqQVmGJskQ=s64",
      "userId": "09624879631889696305"
     },
     "user_tz": -330
    },
    "id": "f16fb2b7"
   },
   "outputs": [],
   "source": [
    "new_df = df[['text', 'cleaned_text', 'airline_sentiment']]"
   ]
  },
  {
   "cell_type": "code",
   "execution_count": null,
   "id": "6de5a8fb",
   "metadata": {
    "colab": {
     "base_uri": "https://localhost:8080/",
     "height": 204
    },
    "executionInfo": {
     "elapsed": 22,
     "status": "ok",
     "timestamp": 1631686301244,
     "user": {
      "displayName": "aniket poojari",
      "photoUrl": "https://lh3.googleusercontent.com/a-/AOh14GjykJAoZZzpgcosjAjuibmB4AylsNENIqQVmGJskQ=s64",
      "userId": "09624879631889696305"
     },
     "user_tz": -330
    },
    "id": "6de5a8fb",
    "outputId": "9bb2fa31-52c0-4e89-ace1-8fda2542dd75"
   },
   "outputs": [
    {
     "data": {
      "text/html": [
       "<div>\n",
       "<style scoped>\n",
       "    .dataframe tbody tr th:only-of-type {\n",
       "        vertical-align: middle;\n",
       "    }\n",
       "\n",
       "    .dataframe tbody tr th {\n",
       "        vertical-align: top;\n",
       "    }\n",
       "\n",
       "    .dataframe thead th {\n",
       "        text-align: right;\n",
       "    }\n",
       "</style>\n",
       "<table border=\"1\" class=\"dataframe\">\n",
       "  <thead>\n",
       "    <tr style=\"text-align: right;\">\n",
       "      <th></th>\n",
       "      <th>text</th>\n",
       "      <th>cleaned_text</th>\n",
       "      <th>airline_sentiment</th>\n",
       "    </tr>\n",
       "  </thead>\n",
       "  <tbody>\n",
       "    <tr>\n",
       "      <th>0</th>\n",
       "      <td>@VirginAmerica What @dhepburn said.</td>\n",
       "      <td>dhepburn said</td>\n",
       "      <td>neutral</td>\n",
       "    </tr>\n",
       "    <tr>\n",
       "      <th>1</th>\n",
       "      <td>@VirginAmerica plus you've added commercials t...</td>\n",
       "      <td>plus ve added commercials experience tacky</td>\n",
       "      <td>positive</td>\n",
       "    </tr>\n",
       "    <tr>\n",
       "      <th>2</th>\n",
       "      <td>@VirginAmerica I didn't today... Must mean I n...</td>\n",
       "      <td>nt today mean need trip</td>\n",
       "      <td>neutral</td>\n",
       "    </tr>\n",
       "    <tr>\n",
       "      <th>3</th>\n",
       "      <td>@VirginAmerica it's really aggressive to blast...</td>\n",
       "      <td>aggressive blast obnoxious entertainment guest...</td>\n",
       "      <td>negative</td>\n",
       "    </tr>\n",
       "    <tr>\n",
       "      <th>4</th>\n",
       "      <td>@VirginAmerica and it's a really big bad thing...</td>\n",
       "      <td>big bad thing</td>\n",
       "      <td>negative</td>\n",
       "    </tr>\n",
       "  </tbody>\n",
       "</table>\n",
       "</div>"
      ],
      "text/plain": [
       "                                                text  \\\n",
       "0                @VirginAmerica What @dhepburn said.   \n",
       "1  @VirginAmerica plus you've added commercials t...   \n",
       "2  @VirginAmerica I didn't today... Must mean I n...   \n",
       "3  @VirginAmerica it's really aggressive to blast...   \n",
       "4  @VirginAmerica and it's a really big bad thing...   \n",
       "\n",
       "                                        cleaned_text airline_sentiment  \n",
       "0                                      dhepburn said           neutral  \n",
       "1         plus ve added commercials experience tacky          positive  \n",
       "2                            nt today mean need trip           neutral  \n",
       "3  aggressive blast obnoxious entertainment guest...          negative  \n",
       "4                                      big bad thing          negative  "
      ]
     },
     "execution_count": 10,
     "metadata": {},
     "output_type": "execute_result"
    }
   ],
   "source": [
    "new_df.head()"
   ]
  },
  {
   "cell_type": "markdown",
   "id": "7a893d81",
   "metadata": {
    "id": "7a893d81"
   },
   "source": [
    "### CREATING META FEATURES"
   ]
  },
  {
   "cell_type": "code",
   "execution_count": null,
   "id": "05867ba4",
   "metadata": {
    "id": "05867ba4"
   },
   "outputs": [],
   "source": [
    "# NUMBER OF WORDS IN ORIGINAL TEXT\n",
    "new_df[\"word_count\"] = new_df[\"text\"].apply(lambda x : len(x.split()))"
   ]
  },
  {
   "cell_type": "code",
   "execution_count": null,
   "id": "6df669cd",
   "metadata": {
    "id": "6df669cd"
   },
   "outputs": [],
   "source": [
    "# NUMBER OF WORDS IN CLEANED TEXT\n",
    "new_df[\"word_count_cleand\"] = new_df[\"cleaned_text\"].apply(lambda x : len(x.split()))"
   ]
  },
  {
   "cell_type": "code",
   "execution_count": null,
   "id": "826c0248",
   "metadata": {
    "id": "826c0248"
   },
   "outputs": [],
   "source": [
    "# NUMBER OF CHARACTERS INCLUDING SPACES IN THE CLEANED TEXT\n",
    "new_df[\"char_count\"] = new_df[\"cleaned_text\"].apply(lambda x : len(x))"
   ]
  },
  {
   "cell_type": "code",
   "execution_count": null,
   "id": "63d3227e",
   "metadata": {
    "id": "63d3227e"
   },
   "outputs": [],
   "source": [
    "# NUMBER OF CHARACTERS EXCLUDING SPACES IN THE CLEANED TEXT\n",
    "new_df[\"char_count_without_spaces\"] = new_df[\"cleaned_text\"].apply(lambda x : len(x.replace(\" \",\"\")))"
   ]
  },
  {
   "cell_type": "code",
   "execution_count": null,
   "id": "7b22865e",
   "metadata": {
    "id": "7b22865e"
   },
   "outputs": [],
   "source": [
    "# NUMBER OF DIGITS IN THE CLEANED TEXT\n",
    "new_df[\"num_dig\"] = new_df[\"cleaned_text\"].apply(lambda x :  sum([1 if w.isdigit() else 0 for w in x.split()]))"
   ]
  },
  {
   "cell_type": "code",
   "execution_count": null,
   "id": "58503f91",
   "metadata": {
    "colab": {
     "base_uri": "https://localhost:8080/",
     "height": 436
    },
    "executionInfo": {
     "elapsed": 646,
     "status": "ok",
     "timestamp": 1631680117697,
     "user": {
      "displayName": "aniket poojari",
      "photoUrl": "https://lh3.googleusercontent.com/a-/AOh14GjykJAoZZzpgcosjAjuibmB4AylsNENIqQVmGJskQ=s64",
      "userId": "09624879631889696305"
     },
     "user_tz": -330
    },
    "id": "58503f91",
    "outputId": "d4e0af80-184f-4832-b12f-b4f3133f0778"
   },
   "outputs": [
    {
     "data": {
      "text/html": [
       "<div>\n",
       "<style scoped>\n",
       "    .dataframe tbody tr th:only-of-type {\n",
       "        vertical-align: middle;\n",
       "    }\n",
       "\n",
       "    .dataframe tbody tr th {\n",
       "        vertical-align: top;\n",
       "    }\n",
       "\n",
       "    .dataframe thead th {\n",
       "        text-align: right;\n",
       "    }\n",
       "</style>\n",
       "<table border=\"1\" class=\"dataframe\">\n",
       "  <thead>\n",
       "    <tr style=\"text-align: right;\">\n",
       "      <th></th>\n",
       "      <th>text</th>\n",
       "      <th>cleaned_text</th>\n",
       "      <th>airline_sentiment</th>\n",
       "      <th>word_count</th>\n",
       "      <th>word_count_cleand</th>\n",
       "      <th>char_count</th>\n",
       "      <th>char_count_without_spaces</th>\n",
       "      <th>num_dig</th>\n",
       "    </tr>\n",
       "  </thead>\n",
       "  <tbody>\n",
       "    <tr>\n",
       "      <th>0</th>\n",
       "      <td>@VirginAmerica What @dhepburn said.</td>\n",
       "      <td>dhepburn said</td>\n",
       "      <td>neutral</td>\n",
       "      <td>4</td>\n",
       "      <td>2</td>\n",
       "      <td>13</td>\n",
       "      <td>12</td>\n",
       "      <td>0</td>\n",
       "    </tr>\n",
       "    <tr>\n",
       "      <th>1</th>\n",
       "      <td>@VirginAmerica plus you've added commercials t...</td>\n",
       "      <td>plus ve added commercials experience tacky</td>\n",
       "      <td>positive</td>\n",
       "      <td>9</td>\n",
       "      <td>6</td>\n",
       "      <td>42</td>\n",
       "      <td>37</td>\n",
       "      <td>0</td>\n",
       "    </tr>\n",
       "    <tr>\n",
       "      <th>2</th>\n",
       "      <td>@VirginAmerica I didn't today... Must mean I n...</td>\n",
       "      <td>nt today mean need trip</td>\n",
       "      <td>neutral</td>\n",
       "      <td>12</td>\n",
       "      <td>5</td>\n",
       "      <td>23</td>\n",
       "      <td>19</td>\n",
       "      <td>0</td>\n",
       "    </tr>\n",
       "    <tr>\n",
       "      <th>3</th>\n",
       "      <td>@VirginAmerica it's really aggressive to blast...</td>\n",
       "      <td>aggressive blast obnoxious entertainment guest...</td>\n",
       "      <td>negative</td>\n",
       "      <td>17</td>\n",
       "      <td>9</td>\n",
       "      <td>73</td>\n",
       "      <td>65</td>\n",
       "      <td>0</td>\n",
       "    </tr>\n",
       "    <tr>\n",
       "      <th>4</th>\n",
       "      <td>@VirginAmerica and it's a really big bad thing...</td>\n",
       "      <td>big bad thing</td>\n",
       "      <td>negative</td>\n",
       "      <td>10</td>\n",
       "      <td>3</td>\n",
       "      <td>13</td>\n",
       "      <td>11</td>\n",
       "      <td>0</td>\n",
       "    </tr>\n",
       "    <tr>\n",
       "      <th>...</th>\n",
       "      <td>...</td>\n",
       "      <td>...</td>\n",
       "      <td>...</td>\n",
       "      <td>...</td>\n",
       "      <td>...</td>\n",
       "      <td>...</td>\n",
       "      <td>...</td>\n",
       "      <td>...</td>\n",
       "    </tr>\n",
       "    <tr>\n",
       "      <th>14635</th>\n",
       "      <td>@AmericanAir thank you we got on a different f...</td>\n",
       "      <td>thank got different flight chicago</td>\n",
       "      <td>positive</td>\n",
       "      <td>11</td>\n",
       "      <td>5</td>\n",
       "      <td>34</td>\n",
       "      <td>30</td>\n",
       "      <td>0</td>\n",
       "    </tr>\n",
       "    <tr>\n",
       "      <th>14636</th>\n",
       "      <td>@AmericanAir leaving over 20 minutes Late Flig...</td>\n",
       "      <td>leaving 20 minutes late flight warnings commun...</td>\n",
       "      <td>negative</td>\n",
       "      <td>23</td>\n",
       "      <td>16</td>\n",
       "      <td>105</td>\n",
       "      <td>90</td>\n",
       "      <td>2</td>\n",
       "    </tr>\n",
       "    <tr>\n",
       "      <th>14637</th>\n",
       "      <td>@AmericanAir Please bring American Airlines to...</td>\n",
       "      <td>bring american airlines blackberry10</td>\n",
       "      <td>neutral</td>\n",
       "      <td>7</td>\n",
       "      <td>4</td>\n",
       "      <td>36</td>\n",
       "      <td>33</td>\n",
       "      <td>0</td>\n",
       "    </tr>\n",
       "    <tr>\n",
       "      <th>14638</th>\n",
       "      <td>@AmericanAir you have my money, you change my ...</td>\n",
       "      <td>money change flight nt answer phones suggestio...</td>\n",
       "      <td>negative</td>\n",
       "      <td>23</td>\n",
       "      <td>8</td>\n",
       "      <td>59</td>\n",
       "      <td>52</td>\n",
       "      <td>0</td>\n",
       "    </tr>\n",
       "    <tr>\n",
       "      <th>14639</th>\n",
       "      <td>@AmericanAir we have 8 ppl so we need 2 know h...</td>\n",
       "      <td>8 ppl need 2 know seats flight plz standby 4 p...</td>\n",
       "      <td>neutral</td>\n",
       "      <td>30</td>\n",
       "      <td>12</td>\n",
       "      <td>58</td>\n",
       "      <td>47</td>\n",
       "      <td>3</td>\n",
       "    </tr>\n",
       "  </tbody>\n",
       "</table>\n",
       "<p>14640 rows × 8 columns</p>\n",
       "</div>"
      ],
      "text/plain": [
       "                                                    text  \\\n",
       "0                    @VirginAmerica What @dhepburn said.   \n",
       "1      @VirginAmerica plus you've added commercials t...   \n",
       "2      @VirginAmerica I didn't today... Must mean I n...   \n",
       "3      @VirginAmerica it's really aggressive to blast...   \n",
       "4      @VirginAmerica and it's a really big bad thing...   \n",
       "...                                                  ...   \n",
       "14635  @AmericanAir thank you we got on a different f...   \n",
       "14636  @AmericanAir leaving over 20 minutes Late Flig...   \n",
       "14637  @AmericanAir Please bring American Airlines to...   \n",
       "14638  @AmericanAir you have my money, you change my ...   \n",
       "14639  @AmericanAir we have 8 ppl so we need 2 know h...   \n",
       "\n",
       "                                            cleaned_text airline_sentiment  \\\n",
       "0                                          dhepburn said           neutral   \n",
       "1             plus ve added commercials experience tacky          positive   \n",
       "2                                nt today mean need trip           neutral   \n",
       "3      aggressive blast obnoxious entertainment guest...          negative   \n",
       "4                                          big bad thing          negative   \n",
       "...                                                  ...               ...   \n",
       "14635                 thank got different flight chicago          positive   \n",
       "14636  leaving 20 minutes late flight warnings commun...          negative   \n",
       "14637               bring american airlines blackberry10           neutral   \n",
       "14638  money change flight nt answer phones suggestio...          negative   \n",
       "14639  8 ppl need 2 know seats flight plz standby 4 p...           neutral   \n",
       "\n",
       "       word_count  word_count_cleand  char_count  char_count_without_spaces  \\\n",
       "0               4                  2          13                         12   \n",
       "1               9                  6          42                         37   \n",
       "2              12                  5          23                         19   \n",
       "3              17                  9          73                         65   \n",
       "4              10                  3          13                         11   \n",
       "...           ...                ...         ...                        ...   \n",
       "14635          11                  5          34                         30   \n",
       "14636          23                 16         105                         90   \n",
       "14637           7                  4          36                         33   \n",
       "14638          23                  8          59                         52   \n",
       "14639          30                 12          58                         47   \n",
       "\n",
       "       num_dig  \n",
       "0            0  \n",
       "1            0  \n",
       "2            0  \n",
       "3            0  \n",
       "4            0  \n",
       "...        ...  \n",
       "14635        0  \n",
       "14636        2  \n",
       "14637        0  \n",
       "14638        0  \n",
       "14639        3  \n",
       "\n",
       "[14640 rows x 8 columns]"
      ]
     },
     "execution_count": 29,
     "metadata": {},
     "output_type": "execute_result"
    }
   ],
   "source": [
    "new_df"
   ]
  },
  {
   "cell_type": "markdown",
   "id": "25dfad84",
   "metadata": {
    "id": "25dfad84"
   },
   "source": [
    "### COUNTING NOUNS AND VERBS"
   ]
  },
  {
   "cell_type": "code",
   "execution_count": null,
   "id": "3af21fbb",
   "metadata": {
    "id": "3af21fbb"
   },
   "outputs": [],
   "source": [
    "nlp = spacy.load(\"en_core_web_sm\")"
   ]
  },
  {
   "cell_type": "code",
   "execution_count": null,
   "id": "1f49b3d2",
   "metadata": {
    "id": "1f49b3d2"
   },
   "outputs": [],
   "source": [
    "# Dictionary of noun and verb POS tags\n",
    "pos_dic = {\"noun\" : [\"NNP\", \"NN\", \"NNS\", \"NNPS\"], \"verb\" : [\"VBZ\", \"VB\", \"VBD\",\"VBG\", \"VBN\"]}"
   ]
  },
  {
   "cell_type": "code",
   "execution_count": null,
   "id": "2f58d5de",
   "metadata": {
    "id": "2f58d5de"
   },
   "outputs": [],
   "source": [
    "def pos_check(txt, family):\n",
    "\n",
    "    txt = nlp(txt)\n",
    "    \n",
    "    all_tags = []\n",
    "\n",
    "    for w in txt:\n",
    "        all_tags.append(w.tag_)\n",
    "    \n",
    "    count = 0\n",
    "\n",
    "    for tag in all_tags:\n",
    "        if tag in pos_dic[family]:\n",
    "            count += 1\n",
    "\n",
    "    return count"
   ]
  },
  {
   "cell_type": "code",
   "execution_count": null,
   "id": "74b183cf",
   "metadata": {
    "id": "74b183cf"
   },
   "outputs": [],
   "source": [
    "new_df[\"noun_count\"] = new_df[\"cleaned_text\"].apply(lambda x : pos_check(x, \"noun\"))\n",
    "new_df[\"verb_count\"] = new_df[\"cleaned_text\"].apply(lambda x : pos_check(x, \"verb\"))"
   ]
  },
  {
   "cell_type": "code",
   "execution_count": null,
   "id": "006984e3",
   "metadata": {
    "id": "006984e3"
   },
   "outputs": [],
   "source": [
    "vec_bow = CountVectorizer(ngram_range=(1, 3), min_df=400)\n",
    "vec_bow.fit(new_df['cleaned_text'])\n",
    "bow1 = vec_bow.transform(new_df['cleaned_text'])"
   ]
  },
  {
   "cell_type": "code",
   "execution_count": null,
   "id": "e461ea5a",
   "metadata": {
    "id": "e461ea5a"
   },
   "outputs": [],
   "source": [
    "vec1 = CountVectorizer(analyzer='char', ngram_range=(1, 5), min_df=500)\n",
    "vec2 = CountVectorizer(analyzer='word', ngram_range=(1, 3), min_df=400)\n",
    "vec_bow = FeatureUnion([(\"char\", vec1), (\"word\", vec2)])\n",
    "vec_bow.fit(new_df['cleaned_text'])\n",
    "bow2 = vec_bow.transform(new_df['cleaned_text'])"
   ]
  },
  {
   "cell_type": "code",
   "execution_count": null,
   "id": "fa77478c",
   "metadata": {
    "id": "fa77478c"
   },
   "outputs": [],
   "source": [
    "vec1 = TfidfVectorizer(analyzer='char', ngram_range=(1, 5), min_df=500)\n",
    "vec2 = TfidfVectorizer(analyzer='word', ngram_range=(1, 3), min_df=400)\n",
    "vec_tfidf = FeatureUnion([(\"char\", vec1), (\"word\", vec2)])\n",
    "vec_tfidf.fit(new_df['cleaned_text'])\n",
    "tfidf1 = vec_tfidf.transform(new_df['cleaned_text'])"
   ]
  },
  {
   "cell_type": "code",
   "execution_count": null,
   "id": "a9ca7997",
   "metadata": {
    "id": "a9ca7997"
   },
   "outputs": [],
   "source": [
    "feature_set1 = new_df[['word_count','word_count_cleand','char_count','char_count_without_spaces','num_dig','noun_count','verb_count']]\n",
    "feature_set1 = hstack([tfidf1, csr_matrix(feature_set1)], \"csr\")"
   ]
  },
  {
   "cell_type": "markdown",
   "id": "AggCwxYvvAkJ",
   "metadata": {
    "id": "AggCwxYvvAkJ"
   },
   "source": [
    "#### LABEL ENCODING"
   ]
  },
  {
   "cell_type": "code",
   "execution_count": 19,
   "id": "57a3721f",
   "metadata": {
    "executionInfo": {
     "elapsed": 3,
     "status": "ok",
     "timestamp": 1631725280371,
     "user": {
      "displayName": "aniket poojari",
      "photoUrl": "https://lh3.googleusercontent.com/a-/AOh14GjykJAoZZzpgcosjAjuibmB4AylsNENIqQVmGJskQ=s64",
      "userId": "09624879631889696305"
     },
     "user_tz": -330
    },
    "id": "57a3721f"
   },
   "outputs": [],
   "source": [
    "le = LabelEncoder()\n",
    "labels = le.fit_transform(new_df['airline_sentiment'])"
   ]
  },
  {
   "cell_type": "code",
   "execution_count": null,
   "id": "ff261908",
   "metadata": {
    "colab": {
     "base_uri": "https://localhost:8080/"
    },
    "executionInfo": {
     "elapsed": 526,
     "status": "ok",
     "timestamp": 1631680479183,
     "user": {
      "displayName": "aniket poojari",
      "photoUrl": "https://lh3.googleusercontent.com/a-/AOh14GjykJAoZZzpgcosjAjuibmB4AylsNENIqQVmGJskQ=s64",
      "userId": "09624879631889696305"
     },
     "user_tz": -330
    },
    "id": "ff261908",
    "outputId": "1bb3605f-3876-41b1-c773-7fbf82fa6ef6"
   },
   "outputs": [
    {
     "data": {
      "text/plain": [
       "array([1, 2, 1, 0, 0, 0, 2, 1, 2, 2])"
      ]
     },
     "execution_count": 39,
     "metadata": {},
     "output_type": "execute_result"
    }
   ],
   "source": [
    "labels[:10]"
   ]
  },
  {
   "cell_type": "code",
   "execution_count": null,
   "id": "f7a418fd",
   "metadata": {
    "colab": {
     "base_uri": "https://localhost:8080/"
    },
    "executionInfo": {
     "elapsed": 6,
     "status": "ok",
     "timestamp": 1631680479796,
     "user": {
      "displayName": "aniket poojari",
      "photoUrl": "https://lh3.googleusercontent.com/a-/AOh14GjykJAoZZzpgcosjAjuibmB4AylsNENIqQVmGJskQ=s64",
      "userId": "09624879631889696305"
     },
     "user_tz": -330
    },
    "id": "f7a418fd",
    "outputId": "b5e32762-d045-4fd0-8941-77d01f6803be"
   },
   "outputs": [
    {
     "data": {
      "text/plain": [
       "array(['negative', 'neutral', 'positive'], dtype=object)"
      ]
     },
     "execution_count": 40,
     "metadata": {},
     "output_type": "execute_result"
    }
   ],
   "source": [
    "le.inverse_transform([0,1,2])"
   ]
  },
  {
   "cell_type": "markdown",
   "id": "d629b9a7",
   "metadata": {
    "id": "d629b9a7"
   },
   "source": [
    "# 5. MODEL SELECTION"
   ]
  },
  {
   "cell_type": "code",
   "execution_count": null,
   "id": "c45bbcd8",
   "metadata": {
    "id": "c45bbcd8"
   },
   "outputs": [],
   "source": [
    "def cv_score(ml_model, DATA):\n",
    "    i = 1\n",
    "    cv_scores = []\n",
    "    \n",
    "    kf = StratifiedKFold(n_splits=5, random_state=11, shuffle=True)\n",
    "    for train_index, test_index in kf.split(DATA, labels):\n",
    "        xtr,xvl = DATA[train_index], DATA[test_index]\n",
    "        ytr,yvl = labels[train_index], labels[test_index]\n",
    "\n",
    "        model = ml_model\n",
    "        model.fit(xtr, ytr)\n",
    "        pred_tr = model.predict_proba(xtr)\n",
    "        pred_vl = model.predict_proba(xvl)\n",
    "        \n",
    "        pred_tr = np.argmax(pred_tr, axis=1)\n",
    "        pred_vl = np.argmax(pred_vl, axis=1)\n",
    "        \n",
    "        f1_tr = f1_score(ytr, pred_tr, average=\"weighted\")\n",
    "        f1_vl = f1_score(yvl, pred_vl, average=\"weighted\")\n",
    "        print('\\n{} of kfold {}'.format(i, kf.n_splits))\n",
    "        msg = \"Train F1: {:.5f} \".format(f1_tr)\n",
    "        msg += \"Valid F1: {:.5f} \".format(f1_vl)\n",
    "        print(\"{}\".format(msg))\n",
    "        \n",
    "        i+=1"
   ]
  },
  {
   "cell_type": "markdown",
   "id": "d5d2526f",
   "metadata": {
    "id": "d5d2526f"
   },
   "source": [
    "### LOGISTIC REGRESSION"
   ]
  },
  {
   "cell_type": "code",
   "execution_count": null,
   "id": "c8b0469f",
   "metadata": {
    "colab": {
     "base_uri": "https://localhost:8080/"
    },
    "executionInfo": {
     "elapsed": 958,
     "status": "ok",
     "timestamp": 1631680566737,
     "user": {
      "displayName": "aniket poojari",
      "photoUrl": "https://lh3.googleusercontent.com/a-/AOh14GjykJAoZZzpgcosjAjuibmB4AylsNENIqQVmGJskQ=s64",
      "userId": "09624879631889696305"
     },
     "user_tz": -330
    },
    "id": "c8b0469f",
    "outputId": "d194a7db-0de3-47bc-bf97-f9aa21752171"
   },
   "outputs": [
    {
     "name": "stdout",
     "output_type": "stream",
     "text": [
      "\n",
      "1 of kfold 5\n",
      "Train F1: 0.61744 Valid F1: 0.59887 \n",
      "\n",
      "2 of kfold 5\n",
      "Train F1: 0.60907 Valid F1: 0.60646 \n",
      "\n",
      "3 of kfold 5\n",
      "Train F1: 0.60422 Valid F1: 0.62094 \n",
      "\n",
      "4 of kfold 5\n",
      "Train F1: 0.60427 Valid F1: 0.59900 \n",
      "\n",
      "5 of kfold 5\n",
      "Train F1: 0.60202 Valid F1: 0.60946 \n"
     ]
    }
   ],
   "source": [
    "cv_score(LogisticRegression(C=0.1,class_weight=\"balanced\"), bow1)"
   ]
  },
  {
   "cell_type": "code",
   "execution_count": null,
   "id": "cfe750e9",
   "metadata": {
    "colab": {
     "base_uri": "https://localhost:8080/"
    },
    "executionInfo": {
     "elapsed": 12409,
     "status": "ok",
     "timestamp": 1631680583016,
     "user": {
      "displayName": "aniket poojari",
      "photoUrl": "https://lh3.googleusercontent.com/a-/AOh14GjykJAoZZzpgcosjAjuibmB4AylsNENIqQVmGJskQ=s64",
      "userId": "09624879631889696305"
     },
     "user_tz": -330
    },
    "id": "cfe750e9",
    "outputId": "ca12e254-166a-467b-b8a6-5ac9580a41e4"
   },
   "outputs": [
    {
     "name": "stdout",
     "output_type": "stream",
     "text": [
      "\n",
      "1 of kfold 5\n",
      "Train F1: 0.75234 Valid F1: 0.70014 \n",
      "\n",
      "2 of kfold 5\n",
      "Train F1: 0.75321 Valid F1: 0.70683 \n",
      "\n",
      "3 of kfold 5\n",
      "Train F1: 0.74881 Valid F1: 0.70927 \n",
      "\n",
      "4 of kfold 5\n",
      "Train F1: 0.75366 Valid F1: 0.69559 \n",
      "\n",
      "5 of kfold 5\n",
      "Train F1: 0.75067 Valid F1: 0.71067 \n"
     ]
    }
   ],
   "source": [
    "cv_score(LogisticRegression(C=0.1,class_weight=\"balanced\"), bow2)"
   ]
  },
  {
   "cell_type": "code",
   "execution_count": null,
   "id": "739e2b69",
   "metadata": {
    "colab": {
     "base_uri": "https://localhost:8080/"
    },
    "executionInfo": {
     "elapsed": 5563,
     "status": "ok",
     "timestamp": 1631680594763,
     "user": {
      "displayName": "aniket poojari",
      "photoUrl": "https://lh3.googleusercontent.com/a-/AOh14GjykJAoZZzpgcosjAjuibmB4AylsNENIqQVmGJskQ=s64",
      "userId": "09624879631889696305"
     },
     "user_tz": -330
    },
    "id": "739e2b69",
    "outputId": "c6f2f3a5-b430-4686-c8ef-917906918637"
   },
   "outputs": [
    {
     "name": "stdout",
     "output_type": "stream",
     "text": [
      "\n",
      "1 of kfold 5\n",
      "Train F1: 0.71644 Valid F1: 0.69497 \n",
      "\n",
      "2 of kfold 5\n",
      "Train F1: 0.71213 Valid F1: 0.69976 \n",
      "\n",
      "3 of kfold 5\n",
      "Train F1: 0.71263 Valid F1: 0.70482 \n",
      "\n",
      "4 of kfold 5\n",
      "Train F1: 0.71198 Valid F1: 0.69539 \n",
      "\n",
      "5 of kfold 5\n",
      "Train F1: 0.71410 Valid F1: 0.70622 \n"
     ]
    }
   ],
   "source": [
    "cv_score(LogisticRegression(C=0.1,class_weight=\"balanced\"), tfidf1)"
   ]
  },
  {
   "cell_type": "code",
   "execution_count": null,
   "id": "fecf65f5",
   "metadata": {
    "colab": {
     "base_uri": "https://localhost:8080/"
    },
    "executionInfo": {
     "elapsed": 11087,
     "status": "ok",
     "timestamp": 1631680628743,
     "user": {
      "displayName": "aniket poojari",
      "photoUrl": "https://lh3.googleusercontent.com/a-/AOh14GjykJAoZZzpgcosjAjuibmB4AylsNENIqQVmGJskQ=s64",
      "userId": "09624879631889696305"
     },
     "user_tz": -330
    },
    "id": "fecf65f5",
    "outputId": "f009286b-ef18-4459-ea28-ec1f945eda79"
   },
   "outputs": [
    {
     "name": "stdout",
     "output_type": "stream",
     "text": [
      "\n",
      "1 of kfold 5\n",
      "Train F1: 0.65596 Valid F1: 0.64038 \n",
      "\n",
      "2 of kfold 5\n",
      "Train F1: 0.64478 Valid F1: 0.66072 \n",
      "\n",
      "3 of kfold 5\n",
      "Train F1: 0.64886 Valid F1: 0.65577 \n",
      "\n",
      "4 of kfold 5\n",
      "Train F1: 0.65547 Valid F1: 0.64699 \n",
      "\n",
      "5 of kfold 5\n",
      "Train F1: 0.65490 Valid F1: 0.65425 \n"
     ]
    }
   ],
   "source": [
    "cv_score(LogisticRegression(C=0.1,class_weight=\"balanced\"), feature_set1)"
   ]
  },
  {
   "cell_type": "markdown",
   "id": "c2c17b36",
   "metadata": {
    "id": "c2c17b36"
   },
   "source": [
    "### NAIVE BAYERS"
   ]
  },
  {
   "cell_type": "code",
   "execution_count": null,
   "id": "e02fc607",
   "metadata": {
    "colab": {
     "base_uri": "https://localhost:8080/"
    },
    "executionInfo": {
     "elapsed": 656,
     "status": "ok",
     "timestamp": 1631680637326,
     "user": {
      "displayName": "aniket poojari",
      "photoUrl": "https://lh3.googleusercontent.com/a-/AOh14GjykJAoZZzpgcosjAjuibmB4AylsNENIqQVmGJskQ=s64",
      "userId": "09624879631889696305"
     },
     "user_tz": -330
    },
    "id": "e02fc607",
    "outputId": "5db8d15b-0da5-473e-dd61-babba9ba0b23"
   },
   "outputs": [
    {
     "name": "stdout",
     "output_type": "stream",
     "text": [
      "\n",
      "1 of kfold 5\n",
      "Train F1: 0.59058 Valid F1: 0.59059 \n",
      "\n",
      "2 of kfold 5\n",
      "Train F1: 0.58915 Valid F1: 0.59601 \n",
      "\n",
      "3 of kfold 5\n",
      "Train F1: 0.59067 Valid F1: 0.58876 \n",
      "\n",
      "4 of kfold 5\n",
      "Train F1: 0.59756 Valid F1: 0.59070 \n",
      "\n",
      "5 of kfold 5\n",
      "Train F1: 0.59080 Valid F1: 0.58868 \n"
     ]
    }
   ],
   "source": [
    "cv_score(MultinomialNB(alpha=.01), bow1)"
   ]
  },
  {
   "cell_type": "code",
   "execution_count": null,
   "id": "10936a48",
   "metadata": {
    "colab": {
     "base_uri": "https://localhost:8080/"
    },
    "executionInfo": {
     "elapsed": 7,
     "status": "ok",
     "timestamp": 1631680641172,
     "user": {
      "displayName": "aniket poojari",
      "photoUrl": "https://lh3.googleusercontent.com/a-/AOh14GjykJAoZZzpgcosjAjuibmB4AylsNENIqQVmGJskQ=s64",
      "userId": "09624879631889696305"
     },
     "user_tz": -330
    },
    "id": "10936a48",
    "outputId": "85e285b2-a51a-484d-98e2-7c946c071fcf"
   },
   "outputs": [
    {
     "name": "stdout",
     "output_type": "stream",
     "text": [
      "\n",
      "1 of kfold 5\n",
      "Train F1: 0.65815 Valid F1: 0.63955 \n",
      "\n",
      "2 of kfold 5\n",
      "Train F1: 0.65241 Valid F1: 0.65708 \n",
      "\n",
      "3 of kfold 5\n",
      "Train F1: 0.65376 Valid F1: 0.64966 \n",
      "\n",
      "4 of kfold 5\n",
      "Train F1: 0.65491 Valid F1: 0.63772 \n",
      "\n",
      "5 of kfold 5\n",
      "Train F1: 0.64649 Valid F1: 0.64749 \n"
     ]
    }
   ],
   "source": [
    "cv_score(MultinomialNB(alpha=.01), bow2)"
   ]
  },
  {
   "cell_type": "code",
   "execution_count": null,
   "id": "b590816f",
   "metadata": {
    "colab": {
     "base_uri": "https://localhost:8080/"
    },
    "executionInfo": {
     "elapsed": 405,
     "status": "ok",
     "timestamp": 1631680645742,
     "user": {
      "displayName": "aniket poojari",
      "photoUrl": "https://lh3.googleusercontent.com/a-/AOh14GjykJAoZZzpgcosjAjuibmB4AylsNENIqQVmGJskQ=s64",
      "userId": "09624879631889696305"
     },
     "user_tz": -330
    },
    "id": "b590816f",
    "outputId": "e5c35141-bf2d-44a3-a445-1644d23e3703"
   },
   "outputs": [
    {
     "name": "stdout",
     "output_type": "stream",
     "text": [
      "\n",
      "1 of kfold 5\n",
      "Train F1: 0.68338 Valid F1: 0.67362 \n",
      "\n",
      "2 of kfold 5\n",
      "Train F1: 0.68329 Valid F1: 0.67969 \n",
      "\n",
      "3 of kfold 5\n",
      "Train F1: 0.68022 Valid F1: 0.68162 \n",
      "\n",
      "4 of kfold 5\n",
      "Train F1: 0.68210 Valid F1: 0.67025 \n",
      "\n",
      "5 of kfold 5\n",
      "Train F1: 0.67959 Valid F1: 0.68769 \n"
     ]
    }
   ],
   "source": [
    "cv_score(MultinomialNB(alpha=.01), tfidf1)"
   ]
  },
  {
   "cell_type": "code",
   "execution_count": null,
   "id": "66036186",
   "metadata": {
    "colab": {
     "base_uri": "https://localhost:8080/"
    },
    "executionInfo": {
     "elapsed": 1217,
     "status": "ok",
     "timestamp": 1631680657717,
     "user": {
      "displayName": "aniket poojari",
      "photoUrl": "https://lh3.googleusercontent.com/a-/AOh14GjykJAoZZzpgcosjAjuibmB4AylsNENIqQVmGJskQ=s64",
      "userId": "09624879631889696305"
     },
     "user_tz": -330
    },
    "id": "66036186",
    "outputId": "637ef3b4-e96c-4e8d-b54f-b64328950c31"
   },
   "outputs": [
    {
     "name": "stdout",
     "output_type": "stream",
     "text": [
      "\n",
      "1 of kfold 5\n",
      "Train F1: 0.68959 Valid F1: 0.68291 \n",
      "\n",
      "2 of kfold 5\n",
      "Train F1: 0.69023 Valid F1: 0.69320 \n",
      "\n",
      "3 of kfold 5\n",
      "Train F1: 0.69040 Valid F1: 0.68246 \n",
      "\n",
      "4 of kfold 5\n",
      "Train F1: 0.69036 Valid F1: 0.67738 \n",
      "\n",
      "5 of kfold 5\n",
      "Train F1: 0.68771 Valid F1: 0.69161 \n"
     ]
    }
   ],
   "source": [
    "cv_score(MultinomialNB(alpha=.01), feature_set1)"
   ]
  },
  {
   "cell_type": "markdown",
   "id": "8584d52b",
   "metadata": {
    "id": "8584d52b"
   },
   "source": [
    "### DECISION TREE"
   ]
  },
  {
   "cell_type": "code",
   "execution_count": null,
   "id": "9c97c9f2",
   "metadata": {
    "colab": {
     "base_uri": "https://localhost:8080/"
    },
    "executionInfo": {
     "elapsed": 603,
     "status": "ok",
     "timestamp": 1631680665923,
     "user": {
      "displayName": "aniket poojari",
      "photoUrl": "https://lh3.googleusercontent.com/a-/AOh14GjykJAoZZzpgcosjAjuibmB4AylsNENIqQVmGJskQ=s64",
      "userId": "09624879631889696305"
     },
     "user_tz": -330
    },
    "id": "9c97c9f2",
    "outputId": "bcbfecf0-8185-4aa7-f0fe-afe1b6a52e7b"
   },
   "outputs": [
    {
     "name": "stdout",
     "output_type": "stream",
     "text": [
      "\n",
      "1 of kfold 5\n",
      "Train F1: 0.59388 Valid F1: 0.59043 \n",
      "\n",
      "2 of kfold 5\n",
      "Train F1: 0.59338 Valid F1: 0.59467 \n",
      "\n",
      "3 of kfold 5\n",
      "Train F1: 0.59627 Valid F1: 0.60117 \n",
      "\n",
      "4 of kfold 5\n",
      "Train F1: 0.59802 Valid F1: 0.58948 \n",
      "\n",
      "5 of kfold 5\n",
      "Train F1: 0.59783 Valid F1: 0.59284 \n"
     ]
    }
   ],
   "source": [
    "cv_score(DecisionTreeClassifier(min_samples_leaf=25, min_samples_split=25), bow1)"
   ]
  },
  {
   "cell_type": "code",
   "execution_count": null,
   "id": "cdd1eb01",
   "metadata": {
    "colab": {
     "base_uri": "https://localhost:8080/"
    },
    "executionInfo": {
     "elapsed": 9926,
     "status": "ok",
     "timestamp": 1631680678611,
     "user": {
      "displayName": "aniket poojari",
      "photoUrl": "https://lh3.googleusercontent.com/a-/AOh14GjykJAoZZzpgcosjAjuibmB4AylsNENIqQVmGJskQ=s64",
      "userId": "09624879631889696305"
     },
     "user_tz": -330
    },
    "id": "cdd1eb01",
    "outputId": "6ec1a4e4-004a-4fc6-dd44-3a2fbb46cdba"
   },
   "outputs": [
    {
     "name": "stdout",
     "output_type": "stream",
     "text": [
      "\n",
      "1 of kfold 5\n",
      "Train F1: 0.73280 Valid F1: 0.64135 \n",
      "\n",
      "2 of kfold 5\n",
      "Train F1: 0.72772 Valid F1: 0.65962 \n",
      "\n",
      "3 of kfold 5\n",
      "Train F1: 0.72590 Valid F1: 0.65884 \n",
      "\n",
      "4 of kfold 5\n",
      "Train F1: 0.72280 Valid F1: 0.66381 \n",
      "\n",
      "5 of kfold 5\n",
      "Train F1: 0.73189 Valid F1: 0.67273 \n"
     ]
    }
   ],
   "source": [
    "cv_score(DecisionTreeClassifier(min_samples_leaf=25, min_samples_split=25), bow2)"
   ]
  },
  {
   "cell_type": "code",
   "execution_count": null,
   "id": "1bb685fc",
   "metadata": {
    "colab": {
     "base_uri": "https://localhost:8080/"
    },
    "executionInfo": {
     "elapsed": 17528,
     "status": "ok",
     "timestamp": 1631680699195,
     "user": {
      "displayName": "aniket poojari",
      "photoUrl": "https://lh3.googleusercontent.com/a-/AOh14GjykJAoZZzpgcosjAjuibmB4AylsNENIqQVmGJskQ=s64",
      "userId": "09624879631889696305"
     },
     "user_tz": -330
    },
    "id": "1bb685fc",
    "outputId": "ddc96519-9878-415b-cb0f-aab4f93671dd"
   },
   "outputs": [
    {
     "name": "stdout",
     "output_type": "stream",
     "text": [
      "\n",
      "1 of kfold 5\n",
      "Train F1: 0.74915 Valid F1: 0.64370 \n",
      "\n",
      "2 of kfold 5\n",
      "Train F1: 0.74662 Valid F1: 0.66460 \n",
      "\n",
      "3 of kfold 5\n",
      "Train F1: 0.74329 Valid F1: 0.67087 \n",
      "\n",
      "4 of kfold 5\n",
      "Train F1: 0.74345 Valid F1: 0.66849 \n",
      "\n",
      "5 of kfold 5\n",
      "Train F1: 0.74112 Valid F1: 0.65656 \n"
     ]
    }
   ],
   "source": [
    "cv_score(DecisionTreeClassifier(min_samples_leaf=25, min_samples_split=25), tfidf1)"
   ]
  },
  {
   "cell_type": "code",
   "execution_count": null,
   "id": "11a51ab0",
   "metadata": {
    "colab": {
     "base_uri": "https://localhost:8080/"
    },
    "executionInfo": {
     "elapsed": 19049,
     "status": "ok",
     "timestamp": 1631680730356,
     "user": {
      "displayName": "aniket poojari",
      "photoUrl": "https://lh3.googleusercontent.com/a-/AOh14GjykJAoZZzpgcosjAjuibmB4AylsNENIqQVmGJskQ=s64",
      "userId": "09624879631889696305"
     },
     "user_tz": -330
    },
    "id": "11a51ab0",
    "outputId": "20672f84-a2a8-4466-e696-b040140ac1a9"
   },
   "outputs": [
    {
     "name": "stdout",
     "output_type": "stream",
     "text": [
      "\n",
      "1 of kfold 5\n",
      "Train F1: 0.74921 Valid F1: 0.64563 \n",
      "\n",
      "2 of kfold 5\n",
      "Train F1: 0.74781 Valid F1: 0.67166 \n",
      "\n",
      "3 of kfold 5\n",
      "Train F1: 0.74306 Valid F1: 0.66943 \n",
      "\n",
      "4 of kfold 5\n",
      "Train F1: 0.74630 Valid F1: 0.65496 \n",
      "\n",
      "5 of kfold 5\n",
      "Train F1: 0.74816 Valid F1: 0.65539 \n"
     ]
    }
   ],
   "source": [
    "cv_score(DecisionTreeClassifier(min_samples_leaf=25, min_samples_split=25), feature_set1)"
   ]
  },
  {
   "cell_type": "markdown",
   "id": "57d84646",
   "metadata": {
    "id": "57d84646"
   },
   "source": [
    "### RANDOM FOREST"
   ]
  },
  {
   "cell_type": "code",
   "execution_count": null,
   "id": "da0ec55b",
   "metadata": {
    "id": "da0ec55b"
   },
   "outputs": [],
   "source": [
    "rf_params = {'random_state': 0, 'n_jobs': -1, 'n_estimators': 100, 'max_depth': 50, 'n_jobs': -1}"
   ]
  },
  {
   "cell_type": "code",
   "execution_count": null,
   "id": "ac8772e6",
   "metadata": {
    "colab": {
     "base_uri": "https://localhost:8080/"
    },
    "executionInfo": {
     "elapsed": 7239,
     "status": "ok",
     "timestamp": 1631680766797,
     "user": {
      "displayName": "aniket poojari",
      "photoUrl": "https://lh3.googleusercontent.com/a-/AOh14GjykJAoZZzpgcosjAjuibmB4AylsNENIqQVmGJskQ=s64",
      "userId": "09624879631889696305"
     },
     "user_tz": -330
    },
    "id": "ac8772e6",
    "outputId": "04b1b92f-7199-4059-c207-c66297d24cda"
   },
   "outputs": [
    {
     "name": "stdout",
     "output_type": "stream",
     "text": [
      "\n",
      "1 of kfold 5\n",
      "Train F1: 0.62156 Valid F1: 0.58569 \n",
      "\n",
      "2 of kfold 5\n",
      "Train F1: 0.62345 Valid F1: 0.59233 \n",
      "\n",
      "3 of kfold 5\n",
      "Train F1: 0.62148 Valid F1: 0.59737 \n",
      "\n",
      "4 of kfold 5\n",
      "Train F1: 0.62527 Valid F1: 0.58729 \n",
      "\n",
      "5 of kfold 5\n",
      "Train F1: 0.62234 Valid F1: 0.59189 \n"
     ]
    }
   ],
   "source": [
    "cv_score(RandomForestClassifier(**rf_params), bow1)"
   ]
  },
  {
   "cell_type": "code",
   "execution_count": null,
   "id": "db1a0ca8",
   "metadata": {
    "colab": {
     "base_uri": "https://localhost:8080/"
    },
    "executionInfo": {
     "elapsed": 105510,
     "status": "ok",
     "timestamp": 1631680875875,
     "user": {
      "displayName": "aniket poojari",
      "photoUrl": "https://lh3.googleusercontent.com/a-/AOh14GjykJAoZZzpgcosjAjuibmB4AylsNENIqQVmGJskQ=s64",
      "userId": "09624879631889696305"
     },
     "user_tz": -330
    },
    "id": "db1a0ca8",
    "outputId": "960feef9-b92b-4444-b18d-774fa11d4b82"
   },
   "outputs": [
    {
     "name": "stdout",
     "output_type": "stream",
     "text": [
      "\n",
      "1 of kfold 5\n",
      "Train F1: 0.99403 Valid F1: 0.70212 \n",
      "\n",
      "2 of kfold 5\n",
      "Train F1: 0.99480 Valid F1: 0.71111 \n",
      "\n",
      "3 of kfold 5\n",
      "Train F1: 0.99514 Valid F1: 0.71194 \n",
      "\n",
      "4 of kfold 5\n",
      "Train F1: 0.99480 Valid F1: 0.70928 \n",
      "\n",
      "5 of kfold 5\n",
      "Train F1: 0.99497 Valid F1: 0.70697 \n"
     ]
    }
   ],
   "source": [
    "cv_score(RandomForestClassifier(**rf_params), bow2)"
   ]
  },
  {
   "cell_type": "code",
   "execution_count": null,
   "id": "b1bc1683",
   "metadata": {
    "colab": {
     "base_uri": "https://localhost:8080/"
    },
    "executionInfo": {
     "elapsed": 115099,
     "status": "ok",
     "timestamp": 1631681017144,
     "user": {
      "displayName": "aniket poojari",
      "photoUrl": "https://lh3.googleusercontent.com/a-/AOh14GjykJAoZZzpgcosjAjuibmB4AylsNENIqQVmGJskQ=s64",
      "userId": "09624879631889696305"
     },
     "user_tz": -330
    },
    "id": "b1bc1683",
    "outputId": "b0d12da6-3592-4bfc-d01b-d235d0354abf"
   },
   "outputs": [
    {
     "name": "stdout",
     "output_type": "stream",
     "text": [
      "\n",
      "1 of kfold 5\n",
      "Train F1: 0.99386 Valid F1: 0.69805 \n",
      "\n",
      "2 of kfold 5\n",
      "Train F1: 0.99488 Valid F1: 0.70528 \n",
      "\n",
      "3 of kfold 5\n",
      "Train F1: 0.99531 Valid F1: 0.70833 \n",
      "\n",
      "4 of kfold 5\n",
      "Train F1: 0.99488 Valid F1: 0.71154 \n",
      "\n",
      "5 of kfold 5\n",
      "Train F1: 0.99505 Valid F1: 0.70579 \n"
     ]
    }
   ],
   "source": [
    "cv_score(RandomForestClassifier(**rf_params), tfidf1)"
   ]
  },
  {
   "cell_type": "code",
   "execution_count": null,
   "id": "07582b67",
   "metadata": {
    "colab": {
     "base_uri": "https://localhost:8080/"
    },
    "executionInfo": {
     "elapsed": 118334,
     "status": "ok",
     "timestamp": 1631681144642,
     "user": {
      "displayName": "aniket poojari",
      "photoUrl": "https://lh3.googleusercontent.com/a-/AOh14GjykJAoZZzpgcosjAjuibmB4AylsNENIqQVmGJskQ=s64",
      "userId": "09624879631889696305"
     },
     "user_tz": -330
    },
    "id": "07582b67",
    "outputId": "ab6015d1-5da4-46b5-d58f-f39f1d9672fe"
   },
   "outputs": [
    {
     "name": "stdout",
     "output_type": "stream",
     "text": [
      "\n",
      "1 of kfold 5\n",
      "Train F1: 0.99505 Valid F1: 0.69241 \n",
      "\n",
      "2 of kfold 5\n",
      "Train F1: 0.99573 Valid F1: 0.71119 \n",
      "\n",
      "3 of kfold 5\n",
      "Train F1: 0.99556 Valid F1: 0.70160 \n",
      "\n",
      "4 of kfold 5\n",
      "Train F1: 0.99582 Valid F1: 0.70916 \n",
      "\n",
      "5 of kfold 5\n",
      "Train F1: 0.99582 Valid F1: 0.70752 \n"
     ]
    }
   ],
   "source": [
    "cv_score(RandomForestClassifier(**rf_params), feature_set1)"
   ]
  },
  {
   "cell_type": "markdown",
   "id": "2jS0khUy0bLO",
   "metadata": {
    "id": "2jS0khUy0bLO"
   },
   "source": [
    "## NN DATA"
   ]
  },
  {
   "cell_type": "code",
   "execution_count": 20,
   "id": "Q5eA4ehZ0gJu",
   "metadata": {
    "executionInfo": {
     "elapsed": 5733,
     "status": "ok",
     "timestamp": 1631725306503,
     "user": {
      "displayName": "aniket poojari",
      "photoUrl": "https://lh3.googleusercontent.com/a-/AOh14GjykJAoZZzpgcosjAjuibmB4AylsNENIqQVmGJskQ=s64",
      "userId": "09624879631889696305"
     },
     "user_tz": -330
    },
    "id": "Q5eA4ehZ0gJu"
   },
   "outputs": [],
   "source": [
    "tokenizer = BertTokenizerFast.from_pretrained('bert-base-uncased', do_lower_case=True)"
   ]
  },
  {
   "cell_type": "code",
   "execution_count": 21,
   "id": "RXIVmE3C0gHO",
   "metadata": {
    "colab": {
     "base_uri": "https://localhost:8080/",
     "height": 49,
     "referenced_widgets": [
      "f4968780d4ec4b2381134e624b87b85b",
      "1beba888ccdd418ab5c98053f223253f",
      "20ee233f36f846c3981df245279a78ce",
      "acb6ebd6a696438ca202044e14083bd3",
      "2c40f1666d2149ae8156d45a3737ba66",
      "b5919bb168784ccaab5b0fcf8252ace0",
      "f7e126f3173446cb8d86a0f805f004b4",
      "b6673876d6fa4cfdb7f64a4d220bf9aa",
      "1a063effa7574ea7be0961a503b25f55",
      "54454f0d52874ac784b2c7549d72e629",
      "e434872790d1421a999814904d66c4b6"
     ]
    },
    "executionInfo": {
     "elapsed": 3720,
     "status": "ok",
     "timestamp": 1631725310210,
     "user": {
      "displayName": "aniket poojari",
      "photoUrl": "https://lh3.googleusercontent.com/a-/AOh14GjykJAoZZzpgcosjAjuibmB4AylsNENIqQVmGJskQ=s64",
      "userId": "09624879631889696305"
     },
     "user_tz": -330
    },
    "id": "RXIVmE3C0gHO",
    "outputId": "d8af6738-e2cb-486c-b76d-53790edf8db4"
   },
   "outputs": [
    {
     "data": {
      "application/vnd.jupyter.widget-view+json": {
       "model_id": "f4968780d4ec4b2381134e624b87b85b",
       "version_major": 2,
       "version_minor": 0
      },
      "text/plain": [
       "  0%|          | 0/14640 [00:00<?, ?it/s]"
      ]
     },
     "metadata": {},
     "output_type": "display_data"
    }
   ],
   "source": [
    "sent_id = []\n",
    "\n",
    "for i in notebook.tqdm(range(len(df['cleaned_text']))):\n",
    "    encoded_sent = tokenizer.encode(df['cleaned_text'][i], add_special_tokens = False, max_length = 30, truncation = True, pad_to_max_length='right')    \n",
    "    sent_id.append(encoded_sent)"
   ]
  },
  {
   "cell_type": "code",
   "execution_count": 22,
   "id": "otuARRKV0gEu",
   "metadata": {
    "executionInfo": {
     "elapsed": 15,
     "status": "ok",
     "timestamp": 1631725310211,
     "user": {
      "displayName": "aniket poojari",
      "photoUrl": "https://lh3.googleusercontent.com/a-/AOh14GjykJAoZZzpgcosjAjuibmB4AylsNENIqQVmGJskQ=s64",
      "userId": "09624879631889696305"
     },
     "user_tz": -330
    },
    "id": "otuARRKV0gEu"
   },
   "outputs": [],
   "source": [
    "attention_masks = []\n",
    "\n",
    "for sent in sent_id:\n",
    "    att_mask = [int(token_id > 0) for token_id in sent]\n",
    "    attention_masks.append(att_mask)"
   ]
  },
  {
   "cell_type": "code",
   "execution_count": 23,
   "id": "qPa9bF8O1N-J",
   "metadata": {
    "executionInfo": {
     "elapsed": 14,
     "status": "ok",
     "timestamp": 1631725310212,
     "user": {
      "displayName": "aniket poojari",
      "photoUrl": "https://lh3.googleusercontent.com/a-/AOh14GjykJAoZZzpgcosjAjuibmB4AylsNENIqQVmGJskQ=s64",
      "userId": "09624879631889696305"
     },
     "user_tz": -330
    },
    "id": "qPa9bF8O1N-J"
   },
   "outputs": [],
   "source": [
    "train_inputs, validation_inputs, train_labels, validation_labels = train_test_split(sent_id, labels, random_state = 2021, test_size = 0.1, stratify = labels)"
   ]
  },
  {
   "cell_type": "code",
   "execution_count": 24,
   "id": "8_E9zHT21OGz",
   "metadata": {
    "executionInfo": {
     "elapsed": 14,
     "status": "ok",
     "timestamp": 1631725310213,
     "user": {
      "displayName": "aniket poojari",
      "photoUrl": "https://lh3.googleusercontent.com/a-/AOh14GjykJAoZZzpgcosjAjuibmB4AylsNENIqQVmGJskQ=s64",
      "userId": "09624879631889696305"
     },
     "user_tz": -330
    },
    "id": "8_E9zHT21OGz"
   },
   "outputs": [],
   "source": [
    "train_masks, validation_masks, _, _ = train_test_split(attention_masks, labels, random_state = 2021, test_size = 0.1, stratify = labels)"
   ]
  },
  {
   "cell_type": "code",
   "execution_count": 25,
   "id": "9sNkf5F91OJ1",
   "metadata": {
    "executionInfo": {
     "elapsed": 14,
     "status": "ok",
     "timestamp": 1631725310214,
     "user": {
      "displayName": "aniket poojari",
      "photoUrl": "https://lh3.googleusercontent.com/a-/AOh14GjykJAoZZzpgcosjAjuibmB4AylsNENIqQVmGJskQ=s64",
      "userId": "09624879631889696305"
     },
     "user_tz": -330
    },
    "id": "9sNkf5F91OJ1"
   },
   "outputs": [],
   "source": [
    "train_inputs = torch.tensor(train_inputs)\n",
    "validation_inputs = torch.tensor(validation_inputs)\n",
    "\n",
    "train_labels = torch.tensor(train_labels)\n",
    "validation_labels = torch.tensor(validation_labels)\n",
    "\n",
    "train_masks = torch.tensor(train_masks)\n",
    "validation_masks = torch.tensor(validation_masks)"
   ]
  },
  {
   "cell_type": "code",
   "execution_count": 26,
   "id": "ZpNVQ98D1OQf",
   "metadata": {
    "executionInfo": {
     "elapsed": 14,
     "status": "ok",
     "timestamp": 1631725310215,
     "user": {
      "displayName": "aniket poojari",
      "photoUrl": "https://lh3.googleusercontent.com/a-/AOh14GjykJAoZZzpgcosjAjuibmB4AylsNENIqQVmGJskQ=s64",
      "userId": "09624879631889696305"
     },
     "user_tz": -330
    },
    "id": "ZpNVQ98D1OQf"
   },
   "outputs": [],
   "source": [
    "train_data = TensorDataset(train_inputs, train_masks, train_labels)\n",
    "\n",
    "train_sampler = RandomSampler(train_data)\n",
    "\n",
    "train_dataloader = DataLoader(train_data, sampler = train_sampler, batch_size = len(train_inputs))"
   ]
  },
  {
   "cell_type": "code",
   "execution_count": 27,
   "id": "H2dm3lfT1OS5",
   "metadata": {
    "executionInfo": {
     "elapsed": 5,
     "status": "ok",
     "timestamp": 1631725311548,
     "user": {
      "displayName": "aniket poojari",
      "photoUrl": "https://lh3.googleusercontent.com/a-/AOh14GjykJAoZZzpgcosjAjuibmB4AylsNENIqQVmGJskQ=s64",
      "userId": "09624879631889696305"
     },
     "user_tz": -330
    },
    "id": "H2dm3lfT1OS5"
   },
   "outputs": [],
   "source": [
    "validation_data = TensorDataset(validation_inputs, validation_masks, validation_labels)\n",
    "\n",
    "validation_sampler = SequentialSampler(validation_data)\n",
    "\n",
    "validation_dataloader = DataLoader(validation_data, sampler = validation_sampler, batch_size = len(validation_inputs))"
   ]
  },
  {
   "cell_type": "code",
   "execution_count": 21,
   "id": "GAitiMFV2Usq",
   "metadata": {
    "executionInfo": {
     "elapsed": 433,
     "status": "ok",
     "timestamp": 1631720361872,
     "user": {
      "displayName": "aniket poojari",
      "photoUrl": "https://lh3.googleusercontent.com/a-/AOh14GjykJAoZZzpgcosjAjuibmB4AylsNENIqQVmGJskQ=s64",
      "userId": "09624879631889696305"
     },
     "user_tz": -330
    },
    "id": "GAitiMFV2Usq"
   },
   "outputs": [],
   "source": [
    "class RNN(nn.Module):\n",
    "    def __init__(self, hidden_size, embedding_size, num_layers=2, dropout=0.3):\n",
    "        super(RNN, self).__init__()\n",
    "        self.hidden_size = hidden_size\n",
    "        self.embedding_size = embedding_size\n",
    "        self.num_layers = num_layers\n",
    "        self.dropout = dropout\n",
    "        self.embedding = nn.Embedding(tokenizer.vocab_size, embedding_size)\n",
    "        self.rnn = nn.RNN(embedding_size, hidden_size, num_layers = num_layers, batch_first=True)\n",
    "        self.gru = nn.GRU(embedding_size, hidden_size, num_layers = num_layers, batch_first=True)\n",
    "        self.lstm = nn.LSTM(embedding_size, hidden_size, num_layers = num_layers, batch_first=True)\n",
    "        self.fc1 = nn.Linear(hidden_size*30,hidden_size)\n",
    "        self.fc2 = nn.Linear(hidden_size,hidden_size//2)\n",
    "        self.fc3 = nn.Linear(hidden_size//2,3)\n",
    "        self.relu =  nn.ReLU()\n",
    "    def forward(self, input_sequence, model_type):\n",
    "        embedded = self.embedding(input_sequence)\n",
    "        if model_type == \"RNN\":\n",
    "          outputs, hidden = self.rnn(embedded)\n",
    "        elif model_type == \"GRU\":\n",
    "          outputs, hidden = self.gru(embedded)\n",
    "        elif model_type == \"LSTM\":\n",
    "          outputs, (hidden, cell) = self.lstm(embedded)\n",
    "        x = self.fc1(outputs.contiguous().view(-1, 30 * self.hidden_size))\n",
    "        x = self.relu(x)\n",
    "        x = self.fc2(x)\n",
    "        x = self.relu(x)\n",
    "        x = self.fc3(x)\n",
    "        return x"
   ]
  },
  {
   "cell_type": "code",
   "execution_count": 19,
   "id": "oXrdPQx74U6E",
   "metadata": {
    "executionInfo": {
     "elapsed": 421,
     "status": "ok",
     "timestamp": 1631721172888,
     "user": {
      "displayName": "aniket poojari",
      "photoUrl": "https://lh3.googleusercontent.com/a-/AOh14GjykJAoZZzpgcosjAjuibmB4AylsNENIqQVmGJskQ=s64",
      "userId": "09624879631889696305"
     },
     "user_tz": -330
    },
    "id": "oXrdPQx74U6E"
   },
   "outputs": [],
   "source": [
    "class_weights = compute_class_weight('balanced', np.unique(labels), labels)"
   ]
  },
  {
   "cell_type": "code",
   "execution_count": 20,
   "id": "N17lPkw94U3O",
   "metadata": {
    "executionInfo": {
     "elapsed": 7,
     "status": "ok",
     "timestamp": 1631721174645,
     "user": {
      "displayName": "aniket poojari",
      "photoUrl": "https://lh3.googleusercontent.com/a-/AOh14GjykJAoZZzpgcosjAjuibmB4AylsNENIqQVmGJskQ=s64",
      "userId": "09624879631889696305"
     },
     "user_tz": -330
    },
    "id": "N17lPkw94U3O"
   },
   "outputs": [],
   "source": [
    "weights = torch.tensor(class_weights, dtype = torch.float)"
   ]
  },
  {
   "cell_type": "code",
   "execution_count": 21,
   "id": "bKADKlbu2UnK",
   "metadata": {
    "executionInfo": {
     "elapsed": 3,
     "status": "ok",
     "timestamp": 1631721176528,
     "user": {
      "displayName": "aniket poojari",
      "photoUrl": "https://lh3.googleusercontent.com/a-/AOh14GjykJAoZZzpgcosjAjuibmB4AylsNENIqQVmGJskQ=s64",
      "userId": "09624879631889696305"
     },
     "user_tz": -330
    },
    "id": "bKADKlbu2UnK"
   },
   "outputs": [],
   "source": [
    "criterion = nn.CrossEntropyLoss(weights)"
   ]
  },
  {
   "cell_type": "code",
   "execution_count": 25,
   "id": "QFdzb-ZR2bkF",
   "metadata": {
    "executionInfo": {
     "elapsed": 419,
     "status": "ok",
     "timestamp": 1631720374657,
     "user": {
      "displayName": "aniket poojari",
      "photoUrl": "https://lh3.googleusercontent.com/a-/AOh14GjykJAoZZzpgcosjAjuibmB4AylsNENIqQVmGJskQ=s64",
      "userId": "09624879631889696305"
     },
     "user_tz": -330
    },
    "id": "QFdzb-ZR2bkF"
   },
   "outputs": [],
   "source": [
    "def train(model, dataloader, model_type):\n",
    "    model.train()\n",
    "    all_preds = []\n",
    "    all_labels = []\n",
    "    for step, batch in enumerate(dataloader):\n",
    "        sent_id, mask, labels = batch\n",
    "        model.zero_grad()\n",
    "        preds = model(sent_id, model_type)\n",
    "        loss =  criterion(preds, labels.long())\n",
    "        loss.backward()\n",
    "        optimizer.step()\n",
    "        all_preds.extend(np.argmax(nn.LogSoftmax(dim=1)(preds).detach().cpu().numpy(), axis=1))\n",
    "        all_labels.extend(labels.detach().cpu().numpy())\n",
    "    return f1_score(all_labels, all_preds, average=\"weighted\")"
   ]
  },
  {
   "cell_type": "code",
   "execution_count": 26,
   "id": "pFoeA_jy2bnM",
   "metadata": {
    "executionInfo": {
     "elapsed": 7,
     "status": "ok",
     "timestamp": 1631720376856,
     "user": {
      "displayName": "aniket poojari",
      "photoUrl": "https://lh3.googleusercontent.com/a-/AOh14GjykJAoZZzpgcosjAjuibmB4AylsNENIqQVmGJskQ=s64",
      "userId": "09624879631889696305"
     },
     "user_tz": -330
    },
    "id": "pFoeA_jy2bnM"
   },
   "outputs": [],
   "source": [
    "def valid(model, dataloader, model_type):\n",
    "    model.eval()\n",
    "    all_preds = []\n",
    "    all_labels = []\n",
    "    with torch.no_grad():\n",
    "        for step, batch in enumerate(dataloader):     \n",
    "            sent_id, mask, labels = batch\n",
    "            preds = model(sent_id, model_type)\n",
    "            all_preds.extend(np.argmax(nn.LogSoftmax(dim=1)(preds).detach().cpu().numpy(), axis=1))\n",
    "            all_labels.extend(labels.detach().cpu().numpy())\n",
    "    return f1_score(all_labels, all_preds, average=\"weighted\")"
   ]
  },
  {
   "cell_type": "markdown",
   "id": "be8f2e2f",
   "metadata": {
    "id": "be8f2e2f"
   },
   "source": [
    "### RNN"
   ]
  },
  {
   "cell_type": "code",
   "execution_count": 457,
   "id": "e6b16297",
   "metadata": {
    "executionInfo": {
     "elapsed": 380,
     "status": "ok",
     "timestamp": 1631701563942,
     "user": {
      "displayName": "aniket poojari",
      "photoUrl": "https://lh3.googleusercontent.com/a-/AOh14GjykJAoZZzpgcosjAjuibmB4AylsNENIqQVmGJskQ=s64",
      "userId": "09624879631889696305"
     },
     "user_tz": -330
    },
    "id": "e6b16297"
   },
   "outputs": [],
   "source": [
    "model_RNN = RNN(128, 200, 1, 0.3)"
   ]
  },
  {
   "cell_type": "code",
   "execution_count": 448,
   "id": "51500df8",
   "metadata": {
    "executionInfo": {
     "elapsed": 10,
     "status": "ok",
     "timestamp": 1631701348552,
     "user": {
      "displayName": "aniket poojari",
      "photoUrl": "https://lh3.googleusercontent.com/a-/AOh14GjykJAoZZzpgcosjAjuibmB4AylsNENIqQVmGJskQ=s64",
      "userId": "09624879631889696305"
     },
     "user_tz": -330
    },
    "id": "51500df8"
   },
   "outputs": [],
   "source": [
    "optimizer = torch.optim.Adam(model_RNN.parameters(), lr = 0.002)"
   ]
  },
  {
   "cell_type": "code",
   "execution_count": 464,
   "id": "8e29f934",
   "metadata": {
    "colab": {
     "base_uri": "https://localhost:8080/"
    },
    "executionInfo": {
     "elapsed": 139530,
     "status": "ok",
     "timestamp": 1631702355667,
     "user": {
      "displayName": "aniket poojari",
      "photoUrl": "https://lh3.googleusercontent.com/a-/AOh14GjykJAoZZzpgcosjAjuibmB4AylsNENIqQVmGJskQ=s64",
      "userId": "09624879631889696305"
     },
     "user_tz": -330
    },
    "id": "8e29f934",
    "outputId": "4bc93e55-ae5c-43f9-9240-7a4fc43021d1"
   },
   "outputs": [
    {
     "name": "stdout",
     "output_type": "stream",
     "text": [
      "EPOCH 1 / 30...TRAIN F1 0.07633284973997262...TEST F1 0.08475873842636805\n",
      ".....^^SAVING BEST MODEL^^.....\n",
      "EPOCH 2 / 30...TRAIN F1 0.07633284973997262...TEST F1 0.08475873842636805\n",
      "EPOCH 3 / 30...TRAIN F1 0.07633284973997262...TEST F1 0.08475873842636805\n",
      "EPOCH 4 / 30...TRAIN F1 0.07633284973997262...TEST F1 0.08475873842636805\n",
      "EPOCH 5 / 30...TRAIN F1 0.07633284973997262...TEST F1 0.08475873842636805\n",
      "EPOCH 6 / 30...TRAIN F1 0.07633284973997262...TEST F1 0.08475873842636805\n",
      "EPOCH 7 / 30...TRAIN F1 0.07633284973997262...TEST F1 0.08475873842636805\n",
      "EPOCH 8 / 30...TRAIN F1 0.07633284973997262...TEST F1 0.08475873842636805\n",
      "EPOCH 9 / 30...TRAIN F1 0.07633284973997262...TEST F1 0.08475873842636805\n",
      "EPOCH 10 / 30...TRAIN F1 0.07633284973997262...TEST F1 0.08475873842636805\n",
      "EPOCH 11 / 30...TRAIN F1 0.07633284973997262...TEST F1 0.08475873842636805\n",
      "EPOCH 12 / 30...TRAIN F1 0.07633284973997262...TEST F1 0.08475873842636805\n",
      "EPOCH 13 / 30...TRAIN F1 0.07633284973997262...TEST F1 0.08475873842636805\n",
      "EPOCH 14 / 30...TRAIN F1 0.07633284973997262...TEST F1 0.08475873842636805\n",
      "EPOCH 15 / 30...TRAIN F1 0.07633284973997262...TEST F1 0.08475873842636805\n",
      "EPOCH 16 / 30...TRAIN F1 0.07633284973997262...TEST F1 0.08475873842636805\n",
      "EPOCH 17 / 30...TRAIN F1 0.07633284973997262...TEST F1 0.08475873842636805\n",
      "EPOCH 18 / 30...TRAIN F1 0.07633284973997262...TEST F1 0.08475873842636805\n",
      "EPOCH 19 / 30...TRAIN F1 0.07633284973997262...TEST F1 0.08475873842636805\n",
      "EPOCH 20 / 30...TRAIN F1 0.07633284973997262...TEST F1 0.08475873842636805\n",
      "EPOCH 21 / 30...TRAIN F1 0.07633284973997262...TEST F1 0.08475873842636805\n",
      "EPOCH 22 / 30...TRAIN F1 0.07633284973997262...TEST F1 0.08475873842636805\n",
      "EPOCH 23 / 30...TRAIN F1 0.07633284973997262...TEST F1 0.08475873842636805\n",
      "EPOCH 24 / 30...TRAIN F1 0.07633284973997262...TEST F1 0.08475873842636805\n",
      "EPOCH 25 / 30...TRAIN F1 0.07633284973997262...TEST F1 0.08475873842636805\n",
      "EPOCH 26 / 30...TRAIN F1 0.07633284973997262...TEST F1 0.08475873842636805\n",
      "EPOCH 27 / 30...TRAIN F1 0.07633284973997262...TEST F1 0.08475873842636805\n",
      "EPOCH 28 / 30...TRAIN F1 0.07633284973997262...TEST F1 0.08475873842636805\n",
      "EPOCH 29 / 30...TRAIN F1 0.07633284973997262...TEST F1 0.08475873842636805\n",
      "EPOCH 30 / 30...TRAIN F1 0.07633284973997262...TEST F1 0.08475873842636805\n"
     ]
    }
   ],
   "source": [
    "epoches = 30\n",
    "best_f1_score = 0\n",
    "for i in range(epoches):\n",
    "    f1_train = train(model_RNN, train_dataloader, \"RNN\")\n",
    "    f1_valid = valid(model_RNN, validation_dataloader, \"RNN\")\n",
    "    print('EPOCH {:} / {:}...TRAIN F1 {}...TEST F1 {}'.format(i+1, epoches, f1_train, f1_valid))\n",
    "    if f1_valid > best_f1_score:\n",
    "      print('.....^^SAVING BEST MODEL^^.....')\n",
    "      torch.save(model_RNN.state_dict(), dir + 'saved_rnn_weights.pt')\n",
    "      best_f1_score = f1_valid"
   ]
  },
  {
   "cell_type": "markdown",
   "id": "52a62168",
   "metadata": {
    "id": "52a62168"
   },
   "source": [
    "### GRU"
   ]
  },
  {
   "cell_type": "code",
   "execution_count": 465,
   "id": "1c215383",
   "metadata": {
    "executionInfo": {
     "elapsed": 409,
     "status": "ok",
     "timestamp": 1631702365843,
     "user": {
      "displayName": "aniket poojari",
      "photoUrl": "https://lh3.googleusercontent.com/a-/AOh14GjykJAoZZzpgcosjAjuibmB4AylsNENIqQVmGJskQ=s64",
      "userId": "09624879631889696305"
     },
     "user_tz": -330
    },
    "id": "1c215383"
   },
   "outputs": [],
   "source": [
    "model_GRU = RNN(256, 200, 1, 0.3)"
   ]
  },
  {
   "cell_type": "code",
   "execution_count": 466,
   "id": "587d4bea",
   "metadata": {
    "executionInfo": {
     "elapsed": 373,
     "status": "ok",
     "timestamp": 1631702375241,
     "user": {
      "displayName": "aniket poojari",
      "photoUrl": "https://lh3.googleusercontent.com/a-/AOh14GjykJAoZZzpgcosjAjuibmB4AylsNENIqQVmGJskQ=s64",
      "userId": "09624879631889696305"
     },
     "user_tz": -330
    },
    "id": "587d4bea"
   },
   "outputs": [],
   "source": [
    "optimizer = torch.optim.Adam(model_GRU.parameters(), lr = 0.002)"
   ]
  },
  {
   "cell_type": "code",
   "execution_count": 467,
   "id": "L694U1IjQwZk",
   "metadata": {
    "colab": {
     "base_uri": "https://localhost:8080/"
    },
    "executionInfo": {
     "elapsed": 708768,
     "status": "ok",
     "timestamp": 1631703151833,
     "user": {
      "displayName": "aniket poojari",
      "photoUrl": "https://lh3.googleusercontent.com/a-/AOh14GjykJAoZZzpgcosjAjuibmB4AylsNENIqQVmGJskQ=s64",
      "userId": "09624879631889696305"
     },
     "user_tz": -330
    },
    "id": "L694U1IjQwZk",
    "outputId": "4e4a8e49-de69-427c-c00d-33f64ce6d799"
   },
   "outputs": [
    {
     "name": "stdout",
     "output_type": "stream",
     "text": [
      "EPOCH 1 / 30...TRAIN F1 0.04487503611028089...TEST F1 0.5372546808623705\n",
      ".....^^SAVING BEST MODEL^^.....\n",
      "EPOCH 2 / 30...TRAIN F1 0.5548419653171205...TEST F1 0.053632560088456\n",
      "EPOCH 3 / 30...TRAIN F1 0.05942005799471486...TEST F1 0.07971057824176112\n",
      "EPOCH 4 / 30...TRAIN F1 0.07791123181792009...TEST F1 0.5005826635888988\n",
      "EPOCH 5 / 30...TRAIN F1 0.5033183839920462...TEST F1 0.5495760269637724\n",
      ".....^^SAVING BEST MODEL^^.....\n",
      "EPOCH 6 / 30...TRAIN F1 0.5727104760947443...TEST F1 0.4387754501223275\n",
      "EPOCH 7 / 30...TRAIN F1 0.48030707979090437...TEST F1 0.5816475532035718\n",
      ".....^^SAVING BEST MODEL^^.....\n",
      "EPOCH 8 / 30...TRAIN F1 0.6146079796474816...TEST F1 0.6143534944525197\n",
      ".....^^SAVING BEST MODEL^^.....\n",
      "EPOCH 9 / 30...TRAIN F1 0.6260214847827474...TEST F1 0.5994044067908422\n",
      "EPOCH 10 / 30...TRAIN F1 0.6294465611844747...TEST F1 0.618027508804855\n",
      ".....^^SAVING BEST MODEL^^.....\n",
      "EPOCH 11 / 30...TRAIN F1 0.6442604794929379...TEST F1 0.6170342381057317\n",
      "EPOCH 12 / 30...TRAIN F1 0.6573332908703797...TEST F1 0.3864400530955409\n",
      "EPOCH 13 / 30...TRAIN F1 0.4088386110258447...TEST F1 0.5947687491858337\n",
      "EPOCH 14 / 30...TRAIN F1 0.6169400571049323...TEST F1 0.6370553532365509\n",
      ".....^^SAVING BEST MODEL^^.....\n",
      "EPOCH 15 / 30...TRAIN F1 0.6598112331895017...TEST F1 0.6393068573422517\n",
      ".....^^SAVING BEST MODEL^^.....\n",
      "EPOCH 16 / 30...TRAIN F1 0.6803724100560365...TEST F1 0.5308772620020595\n",
      "EPOCH 17 / 30...TRAIN F1 0.5680392048759909...TEST F1 0.623530180057216\n",
      "EPOCH 18 / 30...TRAIN F1 0.6673726473826193...TEST F1 0.6774832703951003\n",
      ".....^^SAVING BEST MODEL^^.....\n",
      "EPOCH 19 / 30...TRAIN F1 0.7230702434969584...TEST F1 0.6775205079498148\n",
      ".....^^SAVING BEST MODEL^^.....\n",
      "EPOCH 20 / 30...TRAIN F1 0.730056598498717...TEST F1 0.6777776905721872\n",
      ".....^^SAVING BEST MODEL^^.....\n",
      "EPOCH 21 / 30...TRAIN F1 0.7371557152239494...TEST F1 0.6788499165779838\n",
      ".....^^SAVING BEST MODEL^^.....\n",
      "EPOCH 22 / 30...TRAIN F1 0.7365688462177346...TEST F1 0.6696985949916326\n",
      "EPOCH 23 / 30...TRAIN F1 0.7205218612954244...TEST F1 0.679618807631065\n",
      ".....^^SAVING BEST MODEL^^.....\n",
      "EPOCH 24 / 30...TRAIN F1 0.7360859558845556...TEST F1 0.699086350348694\n",
      ".....^^SAVING BEST MODEL^^.....\n",
      "EPOCH 25 / 30...TRAIN F1 0.763384809819506...TEST F1 0.7006378087334497\n",
      ".....^^SAVING BEST MODEL^^.....\n",
      "EPOCH 26 / 30...TRAIN F1 0.775176941685028...TEST F1 0.6962058120273201\n",
      "EPOCH 27 / 30...TRAIN F1 0.774954715737294...TEST F1 0.6949718841643528\n",
      "EPOCH 28 / 30...TRAIN F1 0.780381072357302...TEST F1 0.6963415062931052\n",
      "EPOCH 29 / 30...TRAIN F1 0.7841504197572164...TEST F1 0.7018108070446152\n",
      ".....^^SAVING BEST MODEL^^.....\n",
      "EPOCH 30 / 30...TRAIN F1 0.7977010345789601...TEST F1 0.7121841238766867\n",
      ".....^^SAVING BEST MODEL^^.....\n"
     ]
    }
   ],
   "source": [
    "epoches = 30\n",
    "best_f1_score = 0\n",
    "for i in range(epoches):\n",
    "    f1_train = train(model_GRU, train_dataloader, \"GRU\")\n",
    "    f1_valid = valid(model_GRU, validation_dataloader, \"GRU\")\n",
    "    print('EPOCH {:} / {:}...TRAIN F1 {}...TEST F1 {}'.format(i+1, epoches, f1_train, f1_valid))\n",
    "    if f1_valid > best_f1_score:\n",
    "      print('.....^^SAVING BEST MODEL^^.....')\n",
    "      torch.save(model_GRU.state_dict(), dir + 'saved_gru_weights.pt')\n",
    "      best_f1_score = f1_valid"
   ]
  },
  {
   "cell_type": "markdown",
   "id": "ffd9b6ba",
   "metadata": {
    "id": "ffd9b6ba"
   },
   "source": [
    "### LSTM"
   ]
  },
  {
   "cell_type": "code",
   "execution_count": 468,
   "id": "b6c5a303",
   "metadata": {
    "executionInfo": {
     "elapsed": 368,
     "status": "ok",
     "timestamp": 1631703472314,
     "user": {
      "displayName": "aniket poojari",
      "photoUrl": "https://lh3.googleusercontent.com/a-/AOh14GjykJAoZZzpgcosjAjuibmB4AylsNENIqQVmGJskQ=s64",
      "userId": "09624879631889696305"
     },
     "user_tz": -330
    },
    "id": "b6c5a303"
   },
   "outputs": [],
   "source": [
    "model_LSTM = RNN(128, 200, 1, 0.3)#.cuda()"
   ]
  },
  {
   "cell_type": "code",
   "execution_count": 469,
   "id": "e896f5dd",
   "metadata": {
    "executionInfo": {
     "elapsed": 10,
     "status": "ok",
     "timestamp": 1631703473969,
     "user": {
      "displayName": "aniket poojari",
      "photoUrl": "https://lh3.googleusercontent.com/a-/AOh14GjykJAoZZzpgcosjAjuibmB4AylsNENIqQVmGJskQ=s64",
      "userId": "09624879631889696305"
     },
     "user_tz": -330
    },
    "id": "e896f5dd"
   },
   "outputs": [],
   "source": [
    "optimizer = torch.optim.Adam(model_LSTM.parameters(), lr = 0.002)"
   ]
  },
  {
   "cell_type": "code",
   "execution_count": 470,
   "id": "ugcC3l9uTx4z",
   "metadata": {
    "colab": {
     "base_uri": "https://localhost:8080/"
    },
    "executionInfo": {
     "elapsed": 381861,
     "status": "ok",
     "timestamp": 1631703910956,
     "user": {
      "displayName": "aniket poojari",
      "photoUrl": "https://lh3.googleusercontent.com/a-/AOh14GjykJAoZZzpgcosjAjuibmB4AylsNENIqQVmGJskQ=s64",
      "userId": "09624879631889696305"
     },
     "user_tz": -330
    },
    "id": "ugcC3l9uTx4z",
    "outputId": "53fcdd38-79fe-4811-d061-063c1755831a"
   },
   "outputs": [
    {
     "name": "stdout",
     "output_type": "stream",
     "text": [
      "EPOCH 1 / 30...TRAIN F1 0.49710664449329056...TEST F1 0.08568704433960736\n",
      ".....^^SAVING BEST MODEL^^.....\n",
      "EPOCH 2 / 30...TRAIN F1 0.0808997295147212...TEST F1 0.49483275942425636\n",
      ".....^^SAVING BEST MODEL^^.....\n",
      "EPOCH 3 / 30...TRAIN F1 0.5035629442972674...TEST F1 0.5059332842514321\n",
      ".....^^SAVING BEST MODEL^^.....\n",
      "EPOCH 4 / 30...TRAIN F1 0.5243554499663408...TEST F1 0.4068430289569271\n",
      "EPOCH 5 / 30...TRAIN F1 0.4301187156353918...TEST F1 0.5374645366188283\n",
      ".....^^SAVING BEST MODEL^^.....\n",
      "EPOCH 6 / 30...TRAIN F1 0.5613544371214513...TEST F1 0.5864945470128078\n",
      ".....^^SAVING BEST MODEL^^.....\n",
      "EPOCH 7 / 30...TRAIN F1 0.6056930665982826...TEST F1 0.5632220280336147\n",
      "EPOCH 8 / 30...TRAIN F1 0.5924761119136864...TEST F1 0.5828232573652571\n",
      "EPOCH 9 / 30...TRAIN F1 0.6248044003314513...TEST F1 0.5919812863742105\n",
      ".....^^SAVING BEST MODEL^^.....\n",
      "EPOCH 10 / 30...TRAIN F1 0.6350592987660775...TEST F1 0.6092644411302026\n",
      ".....^^SAVING BEST MODEL^^.....\n",
      "EPOCH 11 / 30...TRAIN F1 0.6494507066589494...TEST F1 0.6403636756856519\n",
      ".....^^SAVING BEST MODEL^^.....\n",
      "EPOCH 12 / 30...TRAIN F1 0.6664851367994845...TEST F1 0.6296076402137221\n",
      "EPOCH 13 / 30...TRAIN F1 0.6627474950568061...TEST F1 0.6531487978206975\n",
      ".....^^SAVING BEST MODEL^^.....\n",
      "EPOCH 14 / 30...TRAIN F1 0.6910807589478271...TEST F1 0.6564545560983327\n",
      ".....^^SAVING BEST MODEL^^.....\n",
      "EPOCH 15 / 30...TRAIN F1 0.6894440194125094...TEST F1 0.6601760630730246\n",
      ".....^^SAVING BEST MODEL^^.....\n",
      "EPOCH 16 / 30...TRAIN F1 0.6973592016846647...TEST F1 0.6944380899804272\n",
      ".....^^SAVING BEST MODEL^^.....\n",
      "EPOCH 17 / 30...TRAIN F1 0.7272569551663765...TEST F1 0.6846684633013029\n",
      "EPOCH 18 / 30...TRAIN F1 0.7233165134286595...TEST F1 0.6872111828939144\n",
      "EPOCH 19 / 30...TRAIN F1 0.7296431524783569...TEST F1 0.7000702667552565\n",
      ".....^^SAVING BEST MODEL^^.....\n",
      "EPOCH 20 / 30...TRAIN F1 0.7513992640904891...TEST F1 0.6915416241145547\n",
      "EPOCH 21 / 30...TRAIN F1 0.7555294066867008...TEST F1 0.6797087902003828\n",
      "EPOCH 22 / 30...TRAIN F1 0.7536184535872361...TEST F1 0.6956808856259165\n",
      "EPOCH 23 / 30...TRAIN F1 0.785839901393841...TEST F1 0.6945487470429333\n",
      "EPOCH 24 / 30...TRAIN F1 0.7885302375432667...TEST F1 0.693907202795127\n",
      "EPOCH 25 / 30...TRAIN F1 0.7931692673938252...TEST F1 0.706127997275244\n",
      ".....^^SAVING BEST MODEL^^.....\n",
      "EPOCH 26 / 30...TRAIN F1 0.8019580983792156...TEST F1 0.7189640159051425\n",
      ".....^^SAVING BEST MODEL^^.....\n",
      "EPOCH 27 / 30...TRAIN F1 0.8256886306055734...TEST F1 0.7169734295624091\n",
      "EPOCH 28 / 30...TRAIN F1 0.8301347448156681...TEST F1 0.7139964093095408\n",
      "EPOCH 29 / 30...TRAIN F1 0.8286983692954404...TEST F1 0.7294616636830271\n",
      ".....^^SAVING BEST MODEL^^.....\n",
      "EPOCH 30 / 30...TRAIN F1 0.8542535891372423...TEST F1 0.7282701493486328\n"
     ]
    }
   ],
   "source": [
    "epoches = 30\n",
    "best_f1_score = 0\n",
    "for i in range(epoches):\n",
    "    f1_train = train(model_LSTM, train_dataloader, \"LSTM\")\n",
    "    f1_valid = valid(model_LSTM, validation_dataloader, \"LSTM\")\n",
    "    print('EPOCH {:} / {:}...TRAIN F1 {}...TEST F1 {}'.format(i+1, epoches, f1_train, f1_valid))\n",
    "    if f1_valid > best_f1_score:\n",
    "      print('.....^^SAVING BEST MODEL^^.....')\n",
    "      torch.save(model_LSTM.state_dict(), dir + 'saved_lstm_weights.pt')\n",
    "      best_f1_score = f1_valid"
   ]
  },
  {
   "cell_type": "markdown",
   "id": "7db350e9",
   "metadata": {
    "id": "7db350e9"
   },
   "source": [
    "### CONVOLUTIONAL"
   ]
  },
  {
   "cell_type": "code",
   "execution_count": 588,
   "id": "9fd664ce",
   "metadata": {
    "executionInfo": {
     "elapsed": 407,
     "status": "ok",
     "timestamp": 1631708508791,
     "user": {
      "displayName": "aniket poojari",
      "photoUrl": "https://lh3.googleusercontent.com/a-/AOh14GjykJAoZZzpgcosjAjuibmB4AylsNENIqQVmGJskQ=s64",
      "userId": "09624879631889696305"
     },
     "user_tz": -330
    },
    "id": "9fd664ce"
   },
   "outputs": [],
   "source": [
    "class CONV(nn.Module):\n",
    "    def __init__(self, embedding_size, hidden_size):\n",
    "        super(CONV, self).__init__()\n",
    "        self.embedding_size = embedding_size\n",
    "        self.hidden_size = hidden_size\n",
    "        self.embedding = nn.Embedding(tokenizer.vocab_size, embedding_size)\n",
    "        self.cnn1 = nn.Conv1d(in_channels=embedding_size, out_channels=hidden_size, kernel_size=3, stride=1 )\n",
    "        self.cnn2 = nn.Conv1d(hidden_size, hidden_size//2, 3, stride=1)\n",
    "        self.cnn3 = nn.Conv1d(hidden_size//2, hidden_size//4, 3, stride=1)\n",
    "        self.fc1 = nn.Linear(hidden_size//4 * (30-3*(2)),hidden_size*4)\n",
    "        self.fc2 = nn.Linear(hidden_size*4,hidden_size*2)\n",
    "        self.fc3 = nn.Linear(hidden_size*2,3)\n",
    "        self.relu =  nn.ReLU()\n",
    "    def forward(self, input_sequence, zzz):\n",
    "        embedded = self.embedding(input_sequence)\n",
    "        shape = embedded.shape\n",
    "        embedded = embedded.reshape(shape[0],shape[2],shape[1])\n",
    "        x = self.cnn1(embedded)\n",
    "        x = self.cnn2(x)\n",
    "        x = self.cnn3(x)\n",
    "        x = x.view(x.size(0), -1)\n",
    "        x = self.fc1(x)\n",
    "        x = self.relu(x)\n",
    "        x = self.fc2(x)\n",
    "        x = self.relu(x)\n",
    "        x = self.fc3(x)\n",
    "        return x"
   ]
  },
  {
   "cell_type": "code",
   "execution_count": 595,
   "id": "71e40e7e",
   "metadata": {
    "executionInfo": {
     "elapsed": 467,
     "status": "ok",
     "timestamp": 1631708730668,
     "user": {
      "displayName": "aniket poojari",
      "photoUrl": "https://lh3.googleusercontent.com/a-/AOh14GjykJAoZZzpgcosjAjuibmB4AylsNENIqQVmGJskQ=s64",
      "userId": "09624879631889696305"
     },
     "user_tz": -330
    },
    "id": "71e40e7e"
   },
   "outputs": [],
   "source": [
    "model_CONV = CONV(128, 64)#.cuda()"
   ]
  },
  {
   "cell_type": "code",
   "execution_count": 596,
   "id": "c9691a49",
   "metadata": {
    "executionInfo": {
     "elapsed": 5,
     "status": "ok",
     "timestamp": 1631708734587,
     "user": {
      "displayName": "aniket poojari",
      "photoUrl": "https://lh3.googleusercontent.com/a-/AOh14GjykJAoZZzpgcosjAjuibmB4AylsNENIqQVmGJskQ=s64",
      "userId": "09624879631889696305"
     },
     "user_tz": -330
    },
    "id": "c9691a49"
   },
   "outputs": [],
   "source": [
    "optimizer = torch.optim.Adam(model_CONV.parameters(), lr = 0.002)"
   ]
  },
  {
   "cell_type": "code",
   "execution_count": 597,
   "id": "aa2fa210",
   "metadata": {
    "colab": {
     "base_uri": "https://localhost:8080/"
    },
    "executionInfo": {
     "elapsed": 94368,
     "status": "ok",
     "timestamp": 1631708835565,
     "user": {
      "displayName": "aniket poojari",
      "photoUrl": "https://lh3.googleusercontent.com/a-/AOh14GjykJAoZZzpgcosjAjuibmB4AylsNENIqQVmGJskQ=s64",
      "userId": "09624879631889696305"
     },
     "user_tz": -330
    },
    "id": "aa2fa210",
    "outputId": "98eaed84-9e46-4628-b477-fb224c2c46b5"
   },
   "outputs": [
    {
     "name": "stdout",
     "output_type": "stream",
     "text": [
      "EPOCH 1 / 30...TRAIN F1 0.48319011621657404...TEST F1 0.3554240990428477\n",
      ".....^^SAVING BEST MODEL^^.....\n",
      "EPOCH 2 / 30...TRAIN F1 0.3805781670826163...TEST F1 0.547468279896766\n",
      ".....^^SAVING BEST MODEL^^.....\n",
      "EPOCH 3 / 30...TRAIN F1 0.5604358960558325...TEST F1 0.4025303703796928\n",
      "EPOCH 4 / 30...TRAIN F1 0.4278017223034436...TEST F1 0.5457554604401671\n",
      "EPOCH 5 / 30...TRAIN F1 0.5462381547146099...TEST F1 0.5105756465934769\n",
      "EPOCH 6 / 30...TRAIN F1 0.5312387980106713...TEST F1 0.4900196819928927\n",
      "EPOCH 7 / 30...TRAIN F1 0.5185271241924955...TEST F1 0.5553991588847658\n",
      ".....^^SAVING BEST MODEL^^.....\n",
      "EPOCH 8 / 30...TRAIN F1 0.5855137827801263...TEST F1 0.5759492148971194\n",
      ".....^^SAVING BEST MODEL^^.....\n",
      "EPOCH 9 / 30...TRAIN F1 0.606564871664081...TEST F1 0.5551300222242154\n",
      "EPOCH 10 / 30...TRAIN F1 0.5919241398707229...TEST F1 0.5299083298887095\n",
      "EPOCH 11 / 30...TRAIN F1 0.5858351128890475...TEST F1 0.5405131457624444\n",
      "EPOCH 12 / 30...TRAIN F1 0.5759179393494257...TEST F1 0.47089727676216964\n",
      "EPOCH 13 / 30...TRAIN F1 0.5343981193161355...TEST F1 0.6033997472598668\n",
      ".....^^SAVING BEST MODEL^^.....\n",
      "EPOCH 14 / 30...TRAIN F1 0.6435339697892973...TEST F1 0.5587365948731723\n",
      "EPOCH 15 / 30...TRAIN F1 0.6163365763859185...TEST F1 0.47322791538480313\n",
      "EPOCH 16 / 30...TRAIN F1 0.5439401032086871...TEST F1 0.5419139335187778\n",
      "EPOCH 17 / 30...TRAIN F1 0.596613640341873...TEST F1 0.5841298030570812\n",
      "EPOCH 18 / 30...TRAIN F1 0.6405704747549394...TEST F1 0.5601975774940298\n",
      "EPOCH 19 / 30...TRAIN F1 0.62206649805289...TEST F1 0.6229506874064629\n",
      ".....^^SAVING BEST MODEL^^.....\n",
      "EPOCH 20 / 30...TRAIN F1 0.6726466574289073...TEST F1 0.558366231252035\n",
      "EPOCH 21 / 30...TRAIN F1 0.6317755304725082...TEST F1 0.48221754556528634\n",
      "EPOCH 22 / 30...TRAIN F1 0.5682243782397444...TEST F1 0.5613412331172448\n",
      "EPOCH 23 / 30...TRAIN F1 0.6401600908616981...TEST F1 0.6245501323123853\n",
      ".....^^SAVING BEST MODEL^^.....\n",
      "EPOCH 24 / 30...TRAIN F1 0.6921382775467652...TEST F1 0.5972925006006685\n",
      "EPOCH 25 / 30...TRAIN F1 0.6796670820931573...TEST F1 0.571471600473132\n",
      "EPOCH 26 / 30...TRAIN F1 0.6608573727326699...TEST F1 0.5528281408533317\n",
      "EPOCH 27 / 30...TRAIN F1 0.6498531261200337...TEST F1 0.5926911732698417\n",
      "EPOCH 28 / 30...TRAIN F1 0.6894943899371426...TEST F1 0.6214781785079087\n",
      "EPOCH 29 / 30...TRAIN F1 0.7173569901207657...TEST F1 0.6063835992809795\n",
      "EPOCH 30 / 30...TRAIN F1 0.7077194451025801...TEST F1 0.5483976062186497\n"
     ]
    }
   ],
   "source": [
    "epoches = 30\n",
    "best_f1_score = 0\n",
    "for i in range(epoches):\n",
    "    f1_train = train(model_CONV, train_dataloader, \"CONV\")\n",
    "    f1_valid = valid(model_CONV, validation_dataloader, \"CONV\")\n",
    "    print('EPOCH {:} / {:}...TRAIN F1 {}...TEST F1 {}'.format(i+1, epoches, f1_train, f1_valid))\n",
    "    if f1_valid > best_f1_score:\n",
    "      print('.....^^SAVING BEST MODEL^^.....')\n",
    "      torch.save(model_CONV.state_dict(), dir + 'saved_conv_weights.pt')\n",
    "      best_f1_score = f1_valid"
   ]
  },
  {
   "cell_type": "markdown",
   "id": "8e769dbb",
   "metadata": {
    "id": "8e769dbb"
   },
   "source": [
    "### BERT"
   ]
  },
  {
   "cell_type": "code",
   "execution_count": 28,
   "id": "MNxabB7KV_TY",
   "metadata": {
    "executionInfo": {
     "elapsed": 504,
     "status": "ok",
     "timestamp": 1631725368543,
     "user": {
      "displayName": "aniket poojari",
      "photoUrl": "https://lh3.googleusercontent.com/a-/AOh14GjykJAoZZzpgcosjAjuibmB4AylsNENIqQVmGJskQ=s64",
      "userId": "09624879631889696305"
     },
     "user_tz": -330
    },
    "id": "MNxabB7KV_TY"
   },
   "outputs": [],
   "source": [
    "train_dataloader_bert = DataLoader(train_data, sampler = train_sampler, batch_size = 32)"
   ]
  },
  {
   "cell_type": "code",
   "execution_count": 29,
   "id": "T6bh641KWc9x",
   "metadata": {
    "executionInfo": {
     "elapsed": 754,
     "status": "ok",
     "timestamp": 1631725369989,
     "user": {
      "displayName": "aniket poojari",
      "photoUrl": "https://lh3.googleusercontent.com/a-/AOh14GjykJAoZZzpgcosjAjuibmB4AylsNENIqQVmGJskQ=s64",
      "userId": "09624879631889696305"
     },
     "user_tz": -330
    },
    "id": "T6bh641KWc9x"
   },
   "outputs": [],
   "source": [
    "validation_dataloader_bert = DataLoader(validation_data, sampler = validation_sampler, batch_size = 32)"
   ]
  },
  {
   "cell_type": "code",
   "execution_count": 30,
   "id": "3a1db517",
   "metadata": {
    "colab": {
     "base_uri": "https://localhost:8080/",
     "height": 120,
     "referenced_widgets": [
      "94a1b35dd54f4720916190bfaa98f2ae",
      "92449830ec704f62a6f63bd977d7f1e2",
      "3a22f1cf688444f98a61f36bb68ad81c",
      "b43038e9a8124f8bb3567e4852662f56",
      "197f9836e9ae48269bb04fdf0c1a96f5",
      "0be7f0c6bc7040a4aeac8e1c5e06ede1",
      "fd4f39be919143a28e0a4625d3e592ea",
      "6b8b6d060a5a4df59ebc9d93d0d86216",
      "a9156f2998dc4a5783f7f1060dce8681",
      "9788f5736ada4ddb8a9b1f4bbf0cf1b1",
      "ef38de78c94044fd936aa452dc26edf0"
     ]
    },
    "executionInfo": {
     "elapsed": 18254,
     "status": "ok",
     "timestamp": 1631725391616,
     "user": {
      "displayName": "aniket poojari",
      "photoUrl": "https://lh3.googleusercontent.com/a-/AOh14GjykJAoZZzpgcosjAjuibmB4AylsNENIqQVmGJskQ=s64",
      "userId": "09624879631889696305"
     },
     "user_tz": -330
    },
    "id": "3a1db517",
    "outputId": "bbec47b2-0f12-4d75-91cb-da1d179983b8"
   },
   "outputs": [
    {
     "data": {
      "application/vnd.jupyter.widget-view+json": {
       "model_id": "94a1b35dd54f4720916190bfaa98f2ae",
       "version_major": 2,
       "version_minor": 0
      },
      "text/plain": [
       "Downloading:   0%|          | 0.00/440M [00:00<?, ?B/s]"
      ]
     },
     "metadata": {},
     "output_type": "display_data"
    },
    {
     "name": "stderr",
     "output_type": "stream",
     "text": [
      "Some weights of the model checkpoint at bert-base-uncased were not used when initializing BertModel: ['cls.predictions.transform.dense.bias', 'cls.predictions.transform.LayerNorm.weight', 'cls.predictions.decoder.weight', 'cls.seq_relationship.bias', 'cls.seq_relationship.weight', 'cls.predictions.transform.dense.weight', 'cls.predictions.bias', 'cls.predictions.transform.LayerNorm.bias']\n",
      "- This IS expected if you are initializing BertModel from the checkpoint of a model trained on another task or with another architecture (e.g. initializing a BertForSequenceClassification model from a BertForPreTraining model).\n",
      "- This IS NOT expected if you are initializing BertModel from the checkpoint of a model that you expect to be exactly identical (initializing a BertForSequenceClassification model from a BertForSequenceClassification model).\n"
     ]
    }
   ],
   "source": [
    "bert = BertModel.from_pretrained('bert-base-uncased')"
   ]
  },
  {
   "cell_type": "code",
   "execution_count": 31,
   "id": "68d61dea",
   "metadata": {
    "executionInfo": {
     "elapsed": 7,
     "status": "ok",
     "timestamp": 1631725394631,
     "user": {
      "displayName": "aniket poojari",
      "photoUrl": "https://lh3.googleusercontent.com/a-/AOh14GjykJAoZZzpgcosjAjuibmB4AylsNENIqQVmGJskQ=s64",
      "userId": "09624879631889696305"
     },
     "user_tz": -330
    },
    "id": "68d61dea"
   },
   "outputs": [],
   "source": [
    "for param in bert.parameters():\n",
    "    param.requires_grad = False"
   ]
  },
  {
   "cell_type": "code",
   "execution_count": 32,
   "id": "7dfb3899",
   "metadata": {
    "executionInfo": {
     "elapsed": 813,
     "status": "ok",
     "timestamp": 1631725400618,
     "user": {
      "displayName": "aniket poojari",
      "photoUrl": "https://lh3.googleusercontent.com/a-/AOh14GjykJAoZZzpgcosjAjuibmB4AylsNENIqQVmGJskQ=s64",
      "userId": "09624879631889696305"
     },
     "user_tz": -330
    },
    "id": "7dfb3899"
   },
   "outputs": [],
   "source": [
    "class BERT(nn.Module):\n",
    "    def __init__(self, bert, hidden):\n",
    "        super(BERT, self).__init__()\n",
    "        self.bert = bert\n",
    "        self.hidden = hidden\n",
    "        self.fc1 = nn.Linear(768,hidden)\n",
    "        self.fc2 = nn.Linear(hidden,3)\n",
    "        self.dropout = nn.Dropout(0.1)\n",
    "        self.relu =  nn.ReLU()\n",
    "\n",
    "    def forward(self, sent_id, mask):\n",
    "        out = self.bert(sent_id, attention_mask = mask)\n",
    "        all_hidden_states, cls_hidden_state = out[0], out[1]\n",
    "        x = self.fc1(cls_hidden_state)\n",
    "        x = self.relu(x)\n",
    "        x = self.dropout(x)\n",
    "        x = self.fc2(x)\n",
    "        return x"
   ]
  },
  {
   "cell_type": "code",
   "execution_count": 33,
   "id": "90a473f2",
   "metadata": {
    "executionInfo": {
     "elapsed": 9585,
     "status": "ok",
     "timestamp": 1631725417185,
     "user": {
      "displayName": "aniket poojari",
      "photoUrl": "https://lh3.googleusercontent.com/a-/AOh14GjykJAoZZzpgcosjAjuibmB4AylsNENIqQVmGJskQ=s64",
      "userId": "09624879631889696305"
     },
     "user_tz": -330
    },
    "id": "90a473f2"
   },
   "outputs": [],
   "source": [
    "model_BERT = BERT(bert, 512).cuda()"
   ]
  },
  {
   "cell_type": "code",
   "execution_count": 34,
   "id": "7e5710e8",
   "metadata": {
    "executionInfo": {
     "elapsed": 29,
     "status": "ok",
     "timestamp": 1631725417198,
     "user": {
      "displayName": "aniket poojari",
      "photoUrl": "https://lh3.googleusercontent.com/a-/AOh14GjykJAoZZzpgcosjAjuibmB4AylsNENIqQVmGJskQ=s64",
      "userId": "09624879631889696305"
     },
     "user_tz": -330
    },
    "id": "7e5710e8"
   },
   "outputs": [],
   "source": [
    "optimizer = torch.optim.Adam(model_BERT.parameters(), lr = 0.001)"
   ]
  },
  {
   "cell_type": "code",
   "execution_count": 35,
   "id": "Z1w5KG9MM6WY",
   "metadata": {
    "executionInfo": {
     "elapsed": 29,
     "status": "ok",
     "timestamp": 1631725417201,
     "user": {
      "displayName": "aniket poojari",
      "photoUrl": "https://lh3.googleusercontent.com/a-/AOh14GjykJAoZZzpgcosjAjuibmB4AylsNENIqQVmGJskQ=s64",
      "userId": "09624879631889696305"
     },
     "user_tz": -330
    },
    "id": "Z1w5KG9MM6WY"
   },
   "outputs": [],
   "source": [
    "class_weights = compute_class_weight('balanced', np.unique(labels), labels)"
   ]
  },
  {
   "cell_type": "code",
   "execution_count": 36,
   "id": "BUML2HbeM6iu",
   "metadata": {
    "executionInfo": {
     "elapsed": 27,
     "status": "ok",
     "timestamp": 1631725417202,
     "user": {
      "displayName": "aniket poojari",
      "photoUrl": "https://lh3.googleusercontent.com/a-/AOh14GjykJAoZZzpgcosjAjuibmB4AylsNENIqQVmGJskQ=s64",
      "userId": "09624879631889696305"
     },
     "user_tz": -330
    },
    "id": "BUML2HbeM6iu"
   },
   "outputs": [],
   "source": [
    "weights = torch.tensor(class_weights, dtype = torch.float).cuda()"
   ]
  },
  {
   "cell_type": "code",
   "execution_count": 37,
   "id": "y_xWfL46M6rp",
   "metadata": {
    "executionInfo": {
     "elapsed": 27,
     "status": "ok",
     "timestamp": 1631725417206,
     "user": {
      "displayName": "aniket poojari",
      "photoUrl": "https://lh3.googleusercontent.com/a-/AOh14GjykJAoZZzpgcosjAjuibmB4AylsNENIqQVmGJskQ=s64",
      "userId": "09624879631889696305"
     },
     "user_tz": -330
    },
    "id": "y_xWfL46M6rp"
   },
   "outputs": [],
   "source": [
    "criterion = nn.CrossEntropyLoss(weights)"
   ]
  },
  {
   "cell_type": "code",
   "execution_count": 38,
   "id": "4f481582",
   "metadata": {
    "executionInfo": {
     "elapsed": 6,
     "status": "ok",
     "timestamp": 1631725420604,
     "user": {
      "displayName": "aniket poojari",
      "photoUrl": "https://lh3.googleusercontent.com/a-/AOh14GjykJAoZZzpgcosjAjuibmB4AylsNENIqQVmGJskQ=s64",
      "userId": "09624879631889696305"
     },
     "user_tz": -330
    },
    "id": "4f481582"
   },
   "outputs": [],
   "source": [
    "def train(model, dataloader):\n",
    "    model.train()\n",
    "    all_preds = []\n",
    "    all_labels = []\n",
    "    for step, batch in enumerate(dataloader):\n",
    "        batch = tuple(t.cuda() for t in batch)\n",
    "        sent_id, mask, labels = batch\n",
    "        model.zero_grad()\n",
    "        preds = model(sent_id, mask)\n",
    "        loss =  criterion(preds, labels.long())\n",
    "        loss.backward()\n",
    "        optimizer.step()\n",
    "        all_preds.extend(np.argmax(nn.LogSoftmax(dim=1)(preds).detach().cpu().numpy(), axis=1))\n",
    "        all_labels.extend(labels.detach().cpu().numpy())\n",
    "    return f1_score(all_labels, all_preds, average=\"weighted\")"
   ]
  },
  {
   "cell_type": "code",
   "execution_count": 41,
   "id": "6fc65130",
   "metadata": {
    "executionInfo": {
     "elapsed": 670,
     "status": "ok",
     "timestamp": 1631725662724,
     "user": {
      "displayName": "aniket poojari",
      "photoUrl": "https://lh3.googleusercontent.com/a-/AOh14GjykJAoZZzpgcosjAjuibmB4AylsNENIqQVmGJskQ=s64",
      "userId": "09624879631889696305"
     },
     "user_tz": -330
    },
    "id": "6fc65130"
   },
   "outputs": [],
   "source": [
    "def valid(model, dataloader):\n",
    "    model.eval()\n",
    "    all_preds = []\n",
    "    all_labels = []\n",
    "    with torch.no_grad():\n",
    "        for step, batch in enumerate(dataloader):\n",
    "            batch = tuple(t.cuda() for t in batch)     \n",
    "            sent_id, mask, labels = batch\n",
    "            preds = model(sent_id, mask)\n",
    "            all_preds.extend(np.argmax(nn.LogSoftmax(dim=1)(preds).detach().cpu().numpy(), axis=1))\n",
    "            all_labels.extend(labels.detach().cpu().numpy())\n",
    "    return f1_score(all_labels, all_preds, average=\"weighted\")"
   ]
  },
  {
   "cell_type": "code",
   "execution_count": 42,
   "id": "486850ae",
   "metadata": {
    "colab": {
     "base_uri": "https://localhost:8080/"
    },
    "executionInfo": {
     "elapsed": 1788008,
     "status": "ok",
     "timestamp": 1631727464349,
     "user": {
      "displayName": "aniket poojari",
      "photoUrl": "https://lh3.googleusercontent.com/a-/AOh14GjykJAoZZzpgcosjAjuibmB4AylsNENIqQVmGJskQ=s64",
      "userId": "09624879631889696305"
     },
     "user_tz": -330
    },
    "id": "486850ae",
    "outputId": "c58b33e3-130c-45c1-dbae-7f7666a7c876",
    "scrolled": true
   },
   "outputs": [
    {
     "name": "stdout",
     "output_type": "stream",
     "text": [
      "EPOCH 1 / 30...TRAIN F1 0.5032106606648674...TEST F1 0.41685742191331626\n",
      ".....^^SAVING BEST MODEL^^.....\n",
      "EPOCH 2 / 30...TRAIN F1 0.5183175137842556...TEST F1 0.5485251587943344\n",
      ".....^^SAVING BEST MODEL^^.....\n",
      "EPOCH 3 / 30...TRAIN F1 0.5327613735420417...TEST F1 0.5420750104115176\n",
      "EPOCH 4 / 30...TRAIN F1 0.5324815432144195...TEST F1 0.5695012719033599\n",
      ".....^^SAVING BEST MODEL^^.....\n",
      "EPOCH 5 / 30...TRAIN F1 0.5527214071344345...TEST F1 0.6050186631455082\n",
      ".....^^SAVING BEST MODEL^^.....\n",
      "EPOCH 6 / 30...TRAIN F1 0.5413211715016687...TEST F1 0.5358699422451434\n",
      "EPOCH 7 / 30...TRAIN F1 0.5459375596017393...TEST F1 0.5955975214994408\n",
      "EPOCH 8 / 30...TRAIN F1 0.5499499171434994...TEST F1 0.5746627971339057\n",
      "EPOCH 9 / 30...TRAIN F1 0.5426512704546331...TEST F1 0.6476025535100289\n",
      ".....^^SAVING BEST MODEL^^.....\n",
      "EPOCH 10 / 30...TRAIN F1 0.5559101944549473...TEST F1 0.6454281784774156\n",
      "EPOCH 11 / 30...TRAIN F1 0.549188920082862...TEST F1 0.6149027724914727\n",
      "EPOCH 12 / 30...TRAIN F1 0.5451021402258531...TEST F1 0.5898733913106557\n",
      "EPOCH 13 / 30...TRAIN F1 0.5579487581596543...TEST F1 0.586431335692304\n",
      "EPOCH 14 / 30...TRAIN F1 0.5505999863551605...TEST F1 0.5238144893743507\n",
      "EPOCH 15 / 30...TRAIN F1 0.5528363250694599...TEST F1 0.40666612396800506\n",
      "EPOCH 16 / 30...TRAIN F1 0.5527337342192052...TEST F1 0.6437125127100978\n",
      "EPOCH 17 / 30...TRAIN F1 0.559739154576526...TEST F1 0.6153981780461323\n",
      "EPOCH 18 / 30...TRAIN F1 0.5537810299558751...TEST F1 0.5866018207969146\n",
      "EPOCH 19 / 30...TRAIN F1 0.5591207889895223...TEST F1 0.6119918304471974\n",
      "EPOCH 20 / 30...TRAIN F1 0.5569312097841941...TEST F1 0.4824118943485152\n",
      "EPOCH 21 / 30...TRAIN F1 0.5591988155888724...TEST F1 0.5831169521209929\n",
      "EPOCH 22 / 30...TRAIN F1 0.5574628643581875...TEST F1 0.6523019121179664\n",
      ".....^^SAVING BEST MODEL^^.....\n",
      "EPOCH 23 / 30...TRAIN F1 0.563847581299467...TEST F1 0.6269971279196187\n",
      "EPOCH 24 / 30...TRAIN F1 0.5638238874076217...TEST F1 0.6474592325498659\n",
      "EPOCH 25 / 30...TRAIN F1 0.5543725990562937...TEST F1 0.6289261697897619\n",
      "EPOCH 26 / 30...TRAIN F1 0.5651504479696754...TEST F1 0.5386467525699863\n",
      "EPOCH 27 / 30...TRAIN F1 0.5623105872179682...TEST F1 0.5493565027911504\n",
      "EPOCH 28 / 30...TRAIN F1 0.5649855195626857...TEST F1 0.5891198350675656\n",
      "EPOCH 29 / 30...TRAIN F1 0.5633316917922783...TEST F1 0.5694120764307166\n",
      "EPOCH 30 / 30...TRAIN F1 0.5622893955073354...TEST F1 0.5439829215074321\n"
     ]
    }
   ],
   "source": [
    "epoches = 30\n",
    "best_f1_score = 0\n",
    "for i in range(epoches):\n",
    "    f1_train = train(model_BERT, train_dataloader_bert)\n",
    "    f1_valid = valid(model_BERT, validation_dataloader_bert)\n",
    "    print('EPOCH {:} / {:}...TRAIN F1 {}...TEST F1 {}'.format(i+1, epoches, f1_train, f1_valid))\n",
    "    if f1_valid > best_f1_score:\n",
    "      print('.....^^SAVING BEST MODEL^^.....')\n",
    "      torch.save(model_BERT.state_dict(), dir + 'saved_bert_weights.pt')\n",
    "      best_f1_score = f1_valid"
   ]
  },
  {
   "cell_type": "markdown",
   "id": "cr59ditci0on",
   "metadata": {
    "id": "cr59ditci0on"
   },
   "source": [
    "# LSTM MODEL GAVE BEST RESULT"
   ]
  },
  {
   "cell_type": "code",
   "execution_count": null,
   "id": "4MJUp8Tci6C9",
   "metadata": {
    "id": "4MJUp8Tci6C9"
   },
   "outputs": [],
   "source": []
  }
 ],
 "metadata": {
  "accelerator": "GPU",
  "colab": {
   "collapsed_sections": [],
   "name": "Sentiment-Analysis-All.ipynb",
   "provenance": []
  },
  "kernelspec": {
   "display_name": "Python 3 (ipykernel)",
   "language": "python",
   "name": "python3"
  },
  "language_info": {
   "codemirror_mode": {
    "name": "ipython",
    "version": 3
   },
   "file_extension": ".py",
   "mimetype": "text/x-python",
   "name": "python",
   "nbconvert_exporter": "python",
   "pygments_lexer": "ipython3",
   "version": "3.9.12"
  },
  "widgets": {
   "application/vnd.jupyter.widget-state+json": {
    "0be7f0c6bc7040a4aeac8e1c5e06ede1": {
     "model_module": "@jupyter-widgets/controls",
     "model_module_version": "1.5.0",
     "model_name": "DescriptionStyleModel",
     "state": {
      "_model_module": "@jupyter-widgets/controls",
      "_model_module_version": "1.5.0",
      "_model_name": "DescriptionStyleModel",
      "_view_count": null,
      "_view_module": "@jupyter-widgets/base",
      "_view_module_version": "1.2.0",
      "_view_name": "StyleView",
      "description_width": ""
     }
    },
    "197f9836e9ae48269bb04fdf0c1a96f5": {
     "model_module": "@jupyter-widgets/controls",
     "model_module_version": "1.5.0",
     "model_name": "HTMLModel",
     "state": {
      "_dom_classes": [],
      "_model_module": "@jupyter-widgets/controls",
      "_model_module_version": "1.5.0",
      "_model_name": "HTMLModel",
      "_view_count": null,
      "_view_module": "@jupyter-widgets/controls",
      "_view_module_version": "1.5.0",
      "_view_name": "HTMLView",
      "description": "",
      "description_tooltip": null,
      "layout": "IPY_MODEL_ef38de78c94044fd936aa452dc26edf0",
      "placeholder": "​",
      "style": "IPY_MODEL_9788f5736ada4ddb8a9b1f4bbf0cf1b1",
      "value": " 440M/440M [00:14&lt;00:00, 30.6MB/s]"
     }
    },
    "1a063effa7574ea7be0961a503b25f55": {
     "model_module": "@jupyter-widgets/base",
     "model_module_version": "1.2.0",
     "model_name": "LayoutModel",
     "state": {
      "_model_module": "@jupyter-widgets/base",
      "_model_module_version": "1.2.0",
      "_model_name": "LayoutModel",
      "_view_count": null,
      "_view_module": "@jupyter-widgets/base",
      "_view_module_version": "1.2.0",
      "_view_name": "LayoutView",
      "align_content": null,
      "align_items": null,
      "align_self": null,
      "border": null,
      "bottom": null,
      "display": null,
      "flex": null,
      "flex_flow": null,
      "grid_area": null,
      "grid_auto_columns": null,
      "grid_auto_flow": null,
      "grid_auto_rows": null,
      "grid_column": null,
      "grid_gap": null,
      "grid_row": null,
      "grid_template_areas": null,
      "grid_template_columns": null,
      "grid_template_rows": null,
      "height": null,
      "justify_content": null,
      "justify_items": null,
      "left": null,
      "margin": null,
      "max_height": null,
      "max_width": null,
      "min_height": null,
      "min_width": null,
      "object_fit": null,
      "object_position": null,
      "order": null,
      "overflow": null,
      "overflow_x": null,
      "overflow_y": null,
      "padding": null,
      "right": null,
      "top": null,
      "visibility": null,
      "width": null
     }
    },
    "1beba888ccdd418ab5c98053f223253f": {
     "model_module": "@jupyter-widgets/base",
     "model_module_version": "1.2.0",
     "model_name": "LayoutModel",
     "state": {
      "_model_module": "@jupyter-widgets/base",
      "_model_module_version": "1.2.0",
      "_model_name": "LayoutModel",
      "_view_count": null,
      "_view_module": "@jupyter-widgets/base",
      "_view_module_version": "1.2.0",
      "_view_name": "LayoutView",
      "align_content": null,
      "align_items": null,
      "align_self": null,
      "border": null,
      "bottom": null,
      "display": null,
      "flex": null,
      "flex_flow": null,
      "grid_area": null,
      "grid_auto_columns": null,
      "grid_auto_flow": null,
      "grid_auto_rows": null,
      "grid_column": null,
      "grid_gap": null,
      "grid_row": null,
      "grid_template_areas": null,
      "grid_template_columns": null,
      "grid_template_rows": null,
      "height": null,
      "justify_content": null,
      "justify_items": null,
      "left": null,
      "margin": null,
      "max_height": null,
      "max_width": null,
      "min_height": null,
      "min_width": null,
      "object_fit": null,
      "object_position": null,
      "order": null,
      "overflow": null,
      "overflow_x": null,
      "overflow_y": null,
      "padding": null,
      "right": null,
      "top": null,
      "visibility": null,
      "width": null
     }
    },
    "20ee233f36f846c3981df245279a78ce": {
     "model_module": "@jupyter-widgets/controls",
     "model_module_version": "1.5.0",
     "model_name": "HTMLModel",
     "state": {
      "_dom_classes": [],
      "_model_module": "@jupyter-widgets/controls",
      "_model_module_version": "1.5.0",
      "_model_name": "HTMLModel",
      "_view_count": null,
      "_view_module": "@jupyter-widgets/controls",
      "_view_module_version": "1.5.0",
      "_view_name": "HTMLView",
      "description": "",
      "description_tooltip": null,
      "layout": "IPY_MODEL_f7e126f3173446cb8d86a0f805f004b4",
      "placeholder": "​",
      "style": "IPY_MODEL_b5919bb168784ccaab5b0fcf8252ace0",
      "value": "100%"
     }
    },
    "2c40f1666d2149ae8156d45a3737ba66": {
     "model_module": "@jupyter-widgets/controls",
     "model_module_version": "1.5.0",
     "model_name": "HTMLModel",
     "state": {
      "_dom_classes": [],
      "_model_module": "@jupyter-widgets/controls",
      "_model_module_version": "1.5.0",
      "_model_name": "HTMLModel",
      "_view_count": null,
      "_view_module": "@jupyter-widgets/controls",
      "_view_module_version": "1.5.0",
      "_view_name": "HTMLView",
      "description": "",
      "description_tooltip": null,
      "layout": "IPY_MODEL_e434872790d1421a999814904d66c4b6",
      "placeholder": "​",
      "style": "IPY_MODEL_54454f0d52874ac784b2c7549d72e629",
      "value": " 14640/14640 [00:02&lt;00:00, 5085.10it/s]"
     }
    },
    "3a22f1cf688444f98a61f36bb68ad81c": {
     "model_module": "@jupyter-widgets/controls",
     "model_module_version": "1.5.0",
     "model_name": "HTMLModel",
     "state": {
      "_dom_classes": [],
      "_model_module": "@jupyter-widgets/controls",
      "_model_module_version": "1.5.0",
      "_model_name": "HTMLModel",
      "_view_count": null,
      "_view_module": "@jupyter-widgets/controls",
      "_view_module_version": "1.5.0",
      "_view_name": "HTMLView",
      "description": "",
      "description_tooltip": null,
      "layout": "IPY_MODEL_fd4f39be919143a28e0a4625d3e592ea",
      "placeholder": "​",
      "style": "IPY_MODEL_0be7f0c6bc7040a4aeac8e1c5e06ede1",
      "value": "Downloading: 100%"
     }
    },
    "54454f0d52874ac784b2c7549d72e629": {
     "model_module": "@jupyter-widgets/controls",
     "model_module_version": "1.5.0",
     "model_name": "DescriptionStyleModel",
     "state": {
      "_model_module": "@jupyter-widgets/controls",
      "_model_module_version": "1.5.0",
      "_model_name": "DescriptionStyleModel",
      "_view_count": null,
      "_view_module": "@jupyter-widgets/base",
      "_view_module_version": "1.2.0",
      "_view_name": "StyleView",
      "description_width": ""
     }
    },
    "6b8b6d060a5a4df59ebc9d93d0d86216": {
     "model_module": "@jupyter-widgets/controls",
     "model_module_version": "1.5.0",
     "model_name": "ProgressStyleModel",
     "state": {
      "_model_module": "@jupyter-widgets/controls",
      "_model_module_version": "1.5.0",
      "_model_name": "ProgressStyleModel",
      "_view_count": null,
      "_view_module": "@jupyter-widgets/base",
      "_view_module_version": "1.2.0",
      "_view_name": "StyleView",
      "bar_color": null,
      "description_width": ""
     }
    },
    "92449830ec704f62a6f63bd977d7f1e2": {
     "model_module": "@jupyter-widgets/base",
     "model_module_version": "1.2.0",
     "model_name": "LayoutModel",
     "state": {
      "_model_module": "@jupyter-widgets/base",
      "_model_module_version": "1.2.0",
      "_model_name": "LayoutModel",
      "_view_count": null,
      "_view_module": "@jupyter-widgets/base",
      "_view_module_version": "1.2.0",
      "_view_name": "LayoutView",
      "align_content": null,
      "align_items": null,
      "align_self": null,
      "border": null,
      "bottom": null,
      "display": null,
      "flex": null,
      "flex_flow": null,
      "grid_area": null,
      "grid_auto_columns": null,
      "grid_auto_flow": null,
      "grid_auto_rows": null,
      "grid_column": null,
      "grid_gap": null,
      "grid_row": null,
      "grid_template_areas": null,
      "grid_template_columns": null,
      "grid_template_rows": null,
      "height": null,
      "justify_content": null,
      "justify_items": null,
      "left": null,
      "margin": null,
      "max_height": null,
      "max_width": null,
      "min_height": null,
      "min_width": null,
      "object_fit": null,
      "object_position": null,
      "order": null,
      "overflow": null,
      "overflow_x": null,
      "overflow_y": null,
      "padding": null,
      "right": null,
      "top": null,
      "visibility": null,
      "width": null
     }
    },
    "94a1b35dd54f4720916190bfaa98f2ae": {
     "model_module": "@jupyter-widgets/controls",
     "model_module_version": "1.5.0",
     "model_name": "HBoxModel",
     "state": {
      "_dom_classes": [],
      "_model_module": "@jupyter-widgets/controls",
      "_model_module_version": "1.5.0",
      "_model_name": "HBoxModel",
      "_view_count": null,
      "_view_module": "@jupyter-widgets/controls",
      "_view_module_version": "1.5.0",
      "_view_name": "HBoxView",
      "box_style": "",
      "children": [
       "IPY_MODEL_3a22f1cf688444f98a61f36bb68ad81c",
       "IPY_MODEL_b43038e9a8124f8bb3567e4852662f56",
       "IPY_MODEL_197f9836e9ae48269bb04fdf0c1a96f5"
      ],
      "layout": "IPY_MODEL_92449830ec704f62a6f63bd977d7f1e2"
     }
    },
    "9788f5736ada4ddb8a9b1f4bbf0cf1b1": {
     "model_module": "@jupyter-widgets/controls",
     "model_module_version": "1.5.0",
     "model_name": "DescriptionStyleModel",
     "state": {
      "_model_module": "@jupyter-widgets/controls",
      "_model_module_version": "1.5.0",
      "_model_name": "DescriptionStyleModel",
      "_view_count": null,
      "_view_module": "@jupyter-widgets/base",
      "_view_module_version": "1.2.0",
      "_view_name": "StyleView",
      "description_width": ""
     }
    },
    "a9156f2998dc4a5783f7f1060dce8681": {
     "model_module": "@jupyter-widgets/base",
     "model_module_version": "1.2.0",
     "model_name": "LayoutModel",
     "state": {
      "_model_module": "@jupyter-widgets/base",
      "_model_module_version": "1.2.0",
      "_model_name": "LayoutModel",
      "_view_count": null,
      "_view_module": "@jupyter-widgets/base",
      "_view_module_version": "1.2.0",
      "_view_name": "LayoutView",
      "align_content": null,
      "align_items": null,
      "align_self": null,
      "border": null,
      "bottom": null,
      "display": null,
      "flex": null,
      "flex_flow": null,
      "grid_area": null,
      "grid_auto_columns": null,
      "grid_auto_flow": null,
      "grid_auto_rows": null,
      "grid_column": null,
      "grid_gap": null,
      "grid_row": null,
      "grid_template_areas": null,
      "grid_template_columns": null,
      "grid_template_rows": null,
      "height": null,
      "justify_content": null,
      "justify_items": null,
      "left": null,
      "margin": null,
      "max_height": null,
      "max_width": null,
      "min_height": null,
      "min_width": null,
      "object_fit": null,
      "object_position": null,
      "order": null,
      "overflow": null,
      "overflow_x": null,
      "overflow_y": null,
      "padding": null,
      "right": null,
      "top": null,
      "visibility": null,
      "width": null
     }
    },
    "acb6ebd6a696438ca202044e14083bd3": {
     "model_module": "@jupyter-widgets/controls",
     "model_module_version": "1.5.0",
     "model_name": "FloatProgressModel",
     "state": {
      "_dom_classes": [],
      "_model_module": "@jupyter-widgets/controls",
      "_model_module_version": "1.5.0",
      "_model_name": "FloatProgressModel",
      "_view_count": null,
      "_view_module": "@jupyter-widgets/controls",
      "_view_module_version": "1.5.0",
      "_view_name": "ProgressView",
      "bar_style": "success",
      "description": "",
      "description_tooltip": null,
      "layout": "IPY_MODEL_1a063effa7574ea7be0961a503b25f55",
      "max": 14640,
      "min": 0,
      "orientation": "horizontal",
      "style": "IPY_MODEL_b6673876d6fa4cfdb7f64a4d220bf9aa",
      "value": 14640
     }
    },
    "b43038e9a8124f8bb3567e4852662f56": {
     "model_module": "@jupyter-widgets/controls",
     "model_module_version": "1.5.0",
     "model_name": "FloatProgressModel",
     "state": {
      "_dom_classes": [],
      "_model_module": "@jupyter-widgets/controls",
      "_model_module_version": "1.5.0",
      "_model_name": "FloatProgressModel",
      "_view_count": null,
      "_view_module": "@jupyter-widgets/controls",
      "_view_module_version": "1.5.0",
      "_view_name": "ProgressView",
      "bar_style": "success",
      "description": "",
      "description_tooltip": null,
      "layout": "IPY_MODEL_a9156f2998dc4a5783f7f1060dce8681",
      "max": 440473133,
      "min": 0,
      "orientation": "horizontal",
      "style": "IPY_MODEL_6b8b6d060a5a4df59ebc9d93d0d86216",
      "value": 440473133
     }
    },
    "b5919bb168784ccaab5b0fcf8252ace0": {
     "model_module": "@jupyter-widgets/controls",
     "model_module_version": "1.5.0",
     "model_name": "DescriptionStyleModel",
     "state": {
      "_model_module": "@jupyter-widgets/controls",
      "_model_module_version": "1.5.0",
      "_model_name": "DescriptionStyleModel",
      "_view_count": null,
      "_view_module": "@jupyter-widgets/base",
      "_view_module_version": "1.2.0",
      "_view_name": "StyleView",
      "description_width": ""
     }
    },
    "b6673876d6fa4cfdb7f64a4d220bf9aa": {
     "model_module": "@jupyter-widgets/controls",
     "model_module_version": "1.5.0",
     "model_name": "ProgressStyleModel",
     "state": {
      "_model_module": "@jupyter-widgets/controls",
      "_model_module_version": "1.5.0",
      "_model_name": "ProgressStyleModel",
      "_view_count": null,
      "_view_module": "@jupyter-widgets/base",
      "_view_module_version": "1.2.0",
      "_view_name": "StyleView",
      "bar_color": null,
      "description_width": ""
     }
    },
    "e434872790d1421a999814904d66c4b6": {
     "model_module": "@jupyter-widgets/base",
     "model_module_version": "1.2.0",
     "model_name": "LayoutModel",
     "state": {
      "_model_module": "@jupyter-widgets/base",
      "_model_module_version": "1.2.0",
      "_model_name": "LayoutModel",
      "_view_count": null,
      "_view_module": "@jupyter-widgets/base",
      "_view_module_version": "1.2.0",
      "_view_name": "LayoutView",
      "align_content": null,
      "align_items": null,
      "align_self": null,
      "border": null,
      "bottom": null,
      "display": null,
      "flex": null,
      "flex_flow": null,
      "grid_area": null,
      "grid_auto_columns": null,
      "grid_auto_flow": null,
      "grid_auto_rows": null,
      "grid_column": null,
      "grid_gap": null,
      "grid_row": null,
      "grid_template_areas": null,
      "grid_template_columns": null,
      "grid_template_rows": null,
      "height": null,
      "justify_content": null,
      "justify_items": null,
      "left": null,
      "margin": null,
      "max_height": null,
      "max_width": null,
      "min_height": null,
      "min_width": null,
      "object_fit": null,
      "object_position": null,
      "order": null,
      "overflow": null,
      "overflow_x": null,
      "overflow_y": null,
      "padding": null,
      "right": null,
      "top": null,
      "visibility": null,
      "width": null
     }
    },
    "ef38de78c94044fd936aa452dc26edf0": {
     "model_module": "@jupyter-widgets/base",
     "model_module_version": "1.2.0",
     "model_name": "LayoutModel",
     "state": {
      "_model_module": "@jupyter-widgets/base",
      "_model_module_version": "1.2.0",
      "_model_name": "LayoutModel",
      "_view_count": null,
      "_view_module": "@jupyter-widgets/base",
      "_view_module_version": "1.2.0",
      "_view_name": "LayoutView",
      "align_content": null,
      "align_items": null,
      "align_self": null,
      "border": null,
      "bottom": null,
      "display": null,
      "flex": null,
      "flex_flow": null,
      "grid_area": null,
      "grid_auto_columns": null,
      "grid_auto_flow": null,
      "grid_auto_rows": null,
      "grid_column": null,
      "grid_gap": null,
      "grid_row": null,
      "grid_template_areas": null,
      "grid_template_columns": null,
      "grid_template_rows": null,
      "height": null,
      "justify_content": null,
      "justify_items": null,
      "left": null,
      "margin": null,
      "max_height": null,
      "max_width": null,
      "min_height": null,
      "min_width": null,
      "object_fit": null,
      "object_position": null,
      "order": null,
      "overflow": null,
      "overflow_x": null,
      "overflow_y": null,
      "padding": null,
      "right": null,
      "top": null,
      "visibility": null,
      "width": null
     }
    },
    "f4968780d4ec4b2381134e624b87b85b": {
     "model_module": "@jupyter-widgets/controls",
     "model_module_version": "1.5.0",
     "model_name": "HBoxModel",
     "state": {
      "_dom_classes": [],
      "_model_module": "@jupyter-widgets/controls",
      "_model_module_version": "1.5.0",
      "_model_name": "HBoxModel",
      "_view_count": null,
      "_view_module": "@jupyter-widgets/controls",
      "_view_module_version": "1.5.0",
      "_view_name": "HBoxView",
      "box_style": "",
      "children": [
       "IPY_MODEL_20ee233f36f846c3981df245279a78ce",
       "IPY_MODEL_acb6ebd6a696438ca202044e14083bd3",
       "IPY_MODEL_2c40f1666d2149ae8156d45a3737ba66"
      ],
      "layout": "IPY_MODEL_1beba888ccdd418ab5c98053f223253f"
     }
    },
    "f7e126f3173446cb8d86a0f805f004b4": {
     "model_module": "@jupyter-widgets/base",
     "model_module_version": "1.2.0",
     "model_name": "LayoutModel",
     "state": {
      "_model_module": "@jupyter-widgets/base",
      "_model_module_version": "1.2.0",
      "_model_name": "LayoutModel",
      "_view_count": null,
      "_view_module": "@jupyter-widgets/base",
      "_view_module_version": "1.2.0",
      "_view_name": "LayoutView",
      "align_content": null,
      "align_items": null,
      "align_self": null,
      "border": null,
      "bottom": null,
      "display": null,
      "flex": null,
      "flex_flow": null,
      "grid_area": null,
      "grid_auto_columns": null,
      "grid_auto_flow": null,
      "grid_auto_rows": null,
      "grid_column": null,
      "grid_gap": null,
      "grid_row": null,
      "grid_template_areas": null,
      "grid_template_columns": null,
      "grid_template_rows": null,
      "height": null,
      "justify_content": null,
      "justify_items": null,
      "left": null,
      "margin": null,
      "max_height": null,
      "max_width": null,
      "min_height": null,
      "min_width": null,
      "object_fit": null,
      "object_position": null,
      "order": null,
      "overflow": null,
      "overflow_x": null,
      "overflow_y": null,
      "padding": null,
      "right": null,
      "top": null,
      "visibility": null,
      "width": null
     }
    },
    "fd4f39be919143a28e0a4625d3e592ea": {
     "model_module": "@jupyter-widgets/base",
     "model_module_version": "1.2.0",
     "model_name": "LayoutModel",
     "state": {
      "_model_module": "@jupyter-widgets/base",
      "_model_module_version": "1.2.0",
      "_model_name": "LayoutModel",
      "_view_count": null,
      "_view_module": "@jupyter-widgets/base",
      "_view_module_version": "1.2.0",
      "_view_name": "LayoutView",
      "align_content": null,
      "align_items": null,
      "align_self": null,
      "border": null,
      "bottom": null,
      "display": null,
      "flex": null,
      "flex_flow": null,
      "grid_area": null,
      "grid_auto_columns": null,
      "grid_auto_flow": null,
      "grid_auto_rows": null,
      "grid_column": null,
      "grid_gap": null,
      "grid_row": null,
      "grid_template_areas": null,
      "grid_template_columns": null,
      "grid_template_rows": null,
      "height": null,
      "justify_content": null,
      "justify_items": null,
      "left": null,
      "margin": null,
      "max_height": null,
      "max_width": null,
      "min_height": null,
      "min_width": null,
      "object_fit": null,
      "object_position": null,
      "order": null,
      "overflow": null,
      "overflow_x": null,
      "overflow_y": null,
      "padding": null,
      "right": null,
      "top": null,
      "visibility": null,
      "width": null
     }
    }
   }
  }
 },
 "nbformat": 4,
 "nbformat_minor": 5
}
