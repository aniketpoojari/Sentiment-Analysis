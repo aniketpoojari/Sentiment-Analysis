{
 "cells": [
  {
   "cell_type": "markdown",
   "id": "3546937c",
   "metadata": {},
   "source": [
    "# IMPORTS"
   ]
  },
  {
   "cell_type": "code",
   "execution_count": 1,
   "id": "d734dcba",
   "metadata": {},
   "outputs": [],
   "source": [
    "import pandas as pd\n",
    "import numpy as np\n",
    "import pickle\n",
    "from flask import Flask, render_template, request\n",
    "from flask_ngrok import run_with_ngrok\n",
    "import torch\n",
    "import torch.nn as nn\n",
    "from transformers import BertTokenizerFast"
   ]
  },
  {
   "cell_type": "markdown",
   "id": "ef622750",
   "metadata": {},
   "source": [
    "# FLASK"
   ]
  },
  {
   "cell_type": "code",
   "execution_count": 5,
   "id": "96d16bd6",
   "metadata": {},
   "outputs": [],
   "source": [
    "tokenizer = BertTokenizerFast.from_pretrained('bert-base-uncased', do_lower_case=True)"
   ]
  },
  {
   "cell_type": "code",
   "execution_count": 21,
   "id": "13908734",
   "metadata": {},
   "outputs": [],
   "source": [
    "class RNN(nn.Module):\n",
    "    def __init__(self, hidden_size, embedding_size, num_layers=2, dropout=0.3):\n",
    "        super(RNN, self).__init__()\n",
    "        self.hidden_size = hidden_size\n",
    "        self.embedding_size = embedding_size\n",
    "        self.num_layers = num_layers\n",
    "        self.dropout = dropout\n",
    "        self.embedding = nn.Embedding(tokenizer.vocab_size, embedding_size)\n",
    "        self.rnn = nn.RNN(embedding_size, hidden_size, num_layers = num_layers, batch_first=True)\n",
    "        self.gru = nn.GRU(embedding_size, hidden_size, num_layers = num_layers, batch_first=True)\n",
    "        self.lstm = nn.LSTM(embedding_size, hidden_size, num_layers = num_layers, batch_first=True)\n",
    "        self.fc1 = nn.Linear(hidden_size*30,hidden_size)\n",
    "        self.fc2 = nn.Linear(hidden_size,hidden_size//2)\n",
    "        self.fc3 = nn.Linear(hidden_size//2,3)\n",
    "        self.relu =  nn.ReLU()\n",
    "    def forward(self, input_sequence, model_type):\n",
    "        embedded = self.embedding(input_sequence)\n",
    "        if model_type == \"RNN\":\n",
    "            outputs, hidden = self.rnn(embedded)\n",
    "        elif model_type == \"GRU\":\n",
    "            outputs, hidden = self.gru(embedded)\n",
    "        elif model_type == \"LSTM\":\n",
    "            outputs, (hidden, cell) = self.lstm(embedded)\n",
    "        x = self.fc1(outputs.contiguous().view(-1, 30 * self.hidden_size))\n",
    "        x = self.relu(x)\n",
    "        x = self.fc2(x)\n",
    "        x = self.relu(x)\n",
    "        x = self.fc3(x)\n",
    "        return x"
   ]
  },
  {
   "cell_type": "code",
   "execution_count": 22,
   "id": "57c9d91a",
   "metadata": {},
   "outputs": [],
   "source": [
    "model = RNN(128, 200, 1, 0.3)"
   ]
  },
  {
   "cell_type": "code",
   "execution_count": 23,
   "id": "717bd3e3",
   "metadata": {},
   "outputs": [
    {
     "data": {
      "text/plain": [
       "<All keys matched successfully>"
      ]
     },
     "execution_count": 23,
     "metadata": {},
     "output_type": "execute_result"
    }
   ],
   "source": [
    "model.load_state_dict(torch.load('saved_lstm_weights.pt'))"
   ]
  },
  {
   "cell_type": "code",
   "execution_count": 43,
   "id": "5dff434a",
   "metadata": {},
   "outputs": [
    {
     "name": "stdout",
     "output_type": "stream",
     "text": [
      " * Serving Flask app '__main__' (lazy loading)\n",
      " * Environment: production\n",
      "   WARNING: This is a development server. Do not use it in a production deployment.\n",
      "   Use a production WSGI server instead.\n",
      " * Debug mode: off\n"
     ]
    },
    {
     "name": "stderr",
     "output_type": "stream",
     "text": [
      " * Running on http://127.0.0.1:5000/ (Press CTRL+C to quit)\n",
      "127.0.0.1 - - [16/Sep/2021 00:24:38] \"GET / HTTP/1.1\" 200 -\n",
      "127.0.0.1 - - [16/Sep/2021 00:24:40] \"POST /predict HTTP/1.1\" 200 -\n"
     ]
    },
    {
     "name": "stdout",
     "output_type": "stream",
     "text": [
      " * Running on http://f3d1-103-226-144-197.ngrok.io\n",
      " * Traffic stats available on http://127.0.0.1:4040\n"
     ]
    },
    {
     "name": "stderr",
     "output_type": "stream",
     "text": [
      "127.0.0.1 - - [16/Sep/2021 00:24:45] \"POST /predict HTTP/1.1\" 200 -\n",
      "127.0.0.1 - - [16/Sep/2021 00:24:49] \"POST /predict HTTP/1.1\" 200 -\n",
      "127.0.0.1 - - [16/Sep/2021 00:24:57] \"POST /predict HTTP/1.1\" 200 -\n",
      "127.0.0.1 - - [16/Sep/2021 00:25:01] \"POST /predict HTTP/1.1\" 200 -\n",
      "127.0.0.1 - - [16/Sep/2021 00:25:41] \"POST /predict HTTP/1.1\" 200 -\n",
      "127.0.0.1 - - [16/Sep/2021 00:25:48] \"POST /predict HTTP/1.1\" 200 -\n"
     ]
    }
   ],
   "source": [
    "app = Flask(__name__)\n",
    "run_with_ngrok(app)\n",
    "\n",
    "@app.route(\"/\")\n",
    "def home():\n",
    "    return render_template(\"index.html\")\n",
    "\n",
    "@app.route(\"/predict\", methods=[\"POST\"])\n",
    "def predict():\n",
    "    encoded_sent = tokenizer.encode(request.form['text'], add_special_tokens = False, max_length = 30, truncation = True, pad_to_max_length='right')    \n",
    "    features = torch.tensor([encoded_sent])\n",
    "    \n",
    "    # PREDICTION FROM SAVED MODEL\n",
    "    model.eval()\n",
    "    with torch.no_grad():\n",
    "        preds = model(features, \"LSTM\")\n",
    "        result = np.argmax(nn.LogSoftmax(dim=1)(preds).detach().cpu().numpy(), axis=1)[0]\n",
    "    if result == 0:\n",
    "        result = \"<h3> <p>You are &#128548;</p> <p>We are sorry for the inconvenience</p></h3>\"\n",
    "    elif result == 1:\n",
    "        result = \"<h3> <p>You are &#128512;</p> <p>Thankyou! Atleast we are not bad</p></h3>\"\n",
    "    else:\n",
    "        result = \"<h3> <p>You are &#128513;</p> <p>Thankyou! hope you fly with us again</p></h3>\"\n",
    "    \n",
    "    # SHOWING RESULT TO USER\n",
    "    return render_template(\n",
    "        \"index.html\",\n",
    "        prediction_text=\"{}\".format(result),\n",
    "    )\n",
    "\n",
    "if __name__ == \"__main__\":\n",
    "    app.run()"
   ]
  },
  {
   "cell_type": "code",
   "execution_count": null,
   "id": "7c430ea8",
   "metadata": {},
   "outputs": [],
   "source": []
  }
 ],
 "metadata": {
  "kernelspec": {
   "display_name": "Python 3 (ipykernel)",
   "language": "python",
   "name": "python3"
  },
  "language_info": {
   "codemirror_mode": {
    "name": "ipython",
    "version": 3
   },
   "file_extension": ".py",
   "mimetype": "text/x-python",
   "name": "python",
   "nbconvert_exporter": "python",
   "pygments_lexer": "ipython3",
   "version": "3.8.8"
  }
 },
 "nbformat": 4,
 "nbformat_minor": 5
}
